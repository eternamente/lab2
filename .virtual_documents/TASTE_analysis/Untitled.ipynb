import numpy as np
import matplotlib.pyplot as plt
import matplotlib.colors as colors
import pickle
from astropy.io import fits
%matplotlib widget 



science_list = np.genfromtxt('science/science.list', dtype=str)
science_test_list = science_list[:10]
science_frame_name = 'correct' + science_test_list[-1][:-5] + '.p'
science_corrected = pickle.load(open(science_frame_name, 'rb'))


x_target_refined = 351.29
y_target_refined = 26.44 # здесь надо свои значения вставить из прошлого центроид межурмент
ylen, xlen  = np.shape(science_corrected)

X_axis = np.arange(0, xlen, 1)
Y_axis = np.arange(0, ylen, 1)
X, Y = np.meshgrid(X_axis, Y_axis)

target_distance = np.sqrt((X-x_target_refined)**2 + (Y-y_target_refined)**2)
