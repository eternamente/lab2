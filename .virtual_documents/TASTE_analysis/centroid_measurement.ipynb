import numpy as np
import matplotlib.pyplot as plt
import matplotlib.colors as colors
import pickle
from astropy.io import fits
%matplotlib widget 


science_list = np.genfromtxt('science/science.list', dtype=str)
science_test_list = science_list[:10]
science_frame_name = 'correct' + science_test_list[-1][:-5] + '.p'
science_corrected = pickle.load(open(science_frame_name, 'rb'))



# identify target and reference star for aperture photography (?)
# science_frame_name = './correct/' + science_test_list[-1][:-5] + '.p'


vmin = np.amin(science_corrected[:,100:400])
vmax = np.amax(science_corrected[:,100:400])
print('vmin: {0:5.2f} vmax: {0:5.2f} '.format(vmin,vmax))

vmax = 6000
fig, ax = plt.subplots(1, figsize=(8,3))
im1 = plt.imshow(science_corrected, cmap=plt.colormaps['magma'], norm=colors.LogNorm(vmin=vmin, vmax=vmax), origin = 'lower')
# by changing the colors you can reproduce what you would see in ds9 because the color scale is logarithmic
plt.colorbar(im1, ax=ax)
plt.xlabel('X [pixels]')
plt.ylabel('Y [pixels}')
plt.show()


x_target = 350
y_target = 30
#тут нужны координаты нашего таргета!

x_reference_01 = 177
y_reference_01 = 46


def make_circle_around_star(x_pos, y_pos, color = 'w', label='WRONG'):
    #from matplotlib.patches import Circle
    radii = [9, 15]
    n = 50 
    theta = np.linspace(0, 2*np.pi)
    xs = np.outer(radii, np.cos(theta)) 
    ys = np.outer(radii, np.sin(theta))
    xs[1,:] = xs[1,::-1]
    ys[1,:] = ys[1,::-1]

    ax.fill(np.ravel(xs) + x_pos, np.ravel(ys) + y_pos, 
            edgecolor=None, 
            facecolor=color,
            alpha=0.75,
            label=label)


vmin = np.amin(science_corrected[:,100:400])
vmax = np.amax(science_corrected[:,100:400])
print('vmin: {0:5.2f} vmax: {0:5.2f} '.format(vmin,vmax))

vmax = 6000
fig, ax = plt.subplots(1, figsize=(8,3))
im1 = plt.imshow(science_corrected, cmap=plt.colormaps['magma'], norm=colors.LogNorm(vmin=vmin, vmax=vmax), origin = 'lower')
# by changing the colors you can reproduce what you would see in ds9 because the color scale is logarithmic

make_circle_around_star(x_target, y_target, label='Target star')
make_circle_around_star(x_reference_01, y_reference_01, label='Reference star', color='C2')
plt.colorbar(im1, ax=ax)
plt.xlabel('X [pixels]')
plt.ylabel('Y [pixels}')
ax.legend()
plt.show()


ylen, xlen  = np.shape(science_corrected)
print('Shape of our science frame: {0:d} x {1:d}'.format(xlen, ylen))
X_axis = np.arange(0, xlen, 1)
Y_axis = np.arange(0, ylen, 1)
X, Y = np.meshgrid(X_axis, Y_axis)

#i =23, j = 73
#print(X[i,j])
#print(Y[i,j])



#plt.figure()
#plt.imshow(Y, origin='lower')
#plt.show()


fig, ax = plt.subplots(subplot_kw={"projection": "3d"})

# Plot the surface.
surf = ax.plot_surface(X, Y, science_corrected, cmap=plt.colormaps['magma'], norm=colors.LogNorm(vmin=vmin, vmax=vmax),
                       linewidth=0, antialiased=False)

## Add a color bar which maps values to colors.
fig.colorbar(surf, shrink=0.5, aspect=5)

plt.show()


# Make data.

x_target = 348
y_target = 27

vmax= 20000
radius_plot = 15


fig, ax = plt.subplots(subplot_kw={"projection": "3d"})

# Plot the surface.
surf = ax.plot_surface(X[y_target-radius_plot:y_target+radius_plot, x_target-radius_plot:x_target+radius_plot],
                       Y[y_target-radius_plot:y_target+radius_plot, x_target-radius_plot:x_target+radius_plot],
                       science_corrected[y_target-radius_plot:y_target+radius_plot, x_target-radius_plot:x_target+radius_plot],
                       cmap=plt.colormaps['magma'], norm=colors.LogNorm(vmin=vmin, vmax=vmax),
                       linewidth=0, antialiased=False)

# Force rotation of the plot to get the numbers on the left side
# You can get the azimuth and elevation of the observer on the lower part of the plot
# when rotating the image
ax.azim = 40 # value in degree
ax.elev = 30 # value in degree

ax.set_xlabel('X [pixels]')
ax.set_ylabel('Y [pixels]')

# Fix the orientation fo the Z label
ax.zaxis.set_rotate_label(False)  # disable automatic rotation
ax.set_zlabel('photoelectrons', rotation=90)

## Add a color bar which maps values to colors.
fig.colorbar(surf, shrink=0.5, aspect=15, ticks=[10, 100, 1000, 10000, 100000])

plt.show()


import time

t0 = time.time()

print('Seconds passed since January 1, 1970, 00:00:00 (UTC): {0:.4f}'.format(t0))

t1 = time.time()

delta_time = t1 - t0
print('Time spent to print the previous information: {0:f} seconds'.format(delta_time))


t0 = time.time()
rr_method01 = np.zeros_like(science_corrected)

for yi in range(0,np.shape(science_corrected)[0]):
    for xi in range (0, np.shape(science_corrected)[1]):
        rr_method01[yi, xi] =  np.sqrt((xi-x_target)**2 + (yi-y_target)**2)

t1 = time.time()

total_method01 = t1-t0
print('Time required by the first method: {0:f} seconds'.format(total_method01))


t0 = time.time()

X_axis = np.arange(0, xlen, 1)
Y_axis = np.arange(0, ylen, 1)
X, Y = np.meshgrid(X_axis, Y_axis)

t1 = time.time()

rr_method02 = np.sqrt((X-x_target)**2 + (Y-y_target)**2)

t2 = time.time()

prepare_method02 = t1-t0
total_method02 = t2-t1
print('Time required to set up the second algorithm: {0:f} seconds'.format(prepare_method02))
print('Time required by second algorithm:            {0:f} seconds'.format(total_method02))




#Centroid algorithm

# Initial coordinates of the target
x_target = 348
y_target = 27

# Value for the inner radius
inner_radius = 14

def make_circle_around_star(x_pos, y_pos, radius, thickness=0.5, label='', color='w', alpha=1.):
    from matplotlib.patches import Circle

    n, radii = 50, [radius, radius+thickness]
    theta = np.linspace(0, 2*np.pi, n, endpoint=True)
    xs = np.outer(radii, np.cos(theta))
    ys = np.outer(radii, np.sin(theta))
    
    # in order to have a closed area, the circles
    # should be traversed in opposite directions
    xs[1,:] = xs[1,::-1]
    ys[1,:] = ys[1,::-1]
    
    ax.fill(np.ravel(xs)+x_pos, np.ravel(ys)+y_pos, edgecolor=None, facecolor=color, alpha=alpha, label=label)



#Centroid algorithm

# Initial coordinates of the target
x_target = 348
y_target = 27

# Value for the inner radius
inner_radius = 14

# Computing again the meshgrid arrays 
ylen, xlen = np.shape(science_corrected)
X_axis = np.arange(0, xlen, 1)
Y_axis = np.arange(0, ylen, 1)
X, Y = np.meshgrid(X_axis, Y_axis)

# 2D array with the distance of each pixel from the target star 
target_distance = np.sqrt((X-x_target)**2 + (Y-y_target)**2)

# Selection of the pixels within the inner radius
circle_selection = (target_distance < inner_radius)

# Weighted sum of coordinates
weighted_X = np.sum(science_corrected[circle_selection]*X[circle_selection])
weighted_Y = np.sum(science_corrected[circle_selection]*Y[circle_selection])

# Sum of the weights
total_flux = np.sum(science_corrected[circle_selection])

# Refined determination of coordinates
x_target_refined = weighted_X/total_flux
y_target_refined = weighted_Y/total_flux

print('Initial coordinates  x: {0:5.2f}   y: {1:5.2f}'.format(x_target, y_target))
print('Refined coordinates  x: {0:5.2f}   y: {1:5.2f}'.format(x_target_refined, y_target_refined))


#Centroid algorithm

# Initial coordinates of the target
x_target_initial = 348
y_target_initial = 27

maximum_number_of_iterations = 30

# Computing again the meshgrid arrays 
#ylen, xlen = np.shape(science_corrected)
#X_axis = np.arange(0, xlen, 1)
#Y_axis = np.arange(0, ylen, 1)
#X, Y = np.meshgrid(X_axis, Y_axis)

print('Initial coordinates  x: {0:5.2f}   y: {1:5.2f}'.format(x_target_initial, y_target_initial))

for i_iter in range(0, maximum_number_of_iterations):

    if i_iter == 0:
        # first iteration
        x_target_previous = x_target_initial
        y_target_previous = y_target_initial
    else:
        # using the previous result as starting point x_target_previous == x_target, y_target_previous == y_target у профессора на занятии
        x_target_previous = x_target_refined
        y_target_previous = y_target_refined

    # 2D array with the distance of each pixel from the target star 
    target_distance = np.sqrt((X-x_target_previous)**2 + (Y-y_target_previous)**2)

    # Selection of the pixels within the inner radius
    annulus_sel = (target_distance < inner_radius)
    
    # Weighted sum of coordinates
    weighted_X = np.sum(science_corrected[annulus_sel]*X[annulus_sel])
    weighted_Y = np.sum(science_corrected[annulus_sel]*Y[annulus_sel])
    
    # Sum of the weights
    total_flux = np.sum(science_corrected[annulus_sel])

    # Refined determination of coordinates
    x_target_refined = weighted_X/total_flux
    y_target_refined = weighted_Y/total_flux

    # percent_variation_x , percent_variation_y у профессора во время занятия
    percent_variance_x = (x_target_refined-x_target_previous)/(x_target_previous) * 100.
    percent_variance_y = (y_target_refined-y_target_previous)/(y_target_previous) * 100.
    
    print('    Iteration {0:3d}   x: {1:.3f} ({2:.2f}%)  y: {3:.3f} ({4:.2f}%)'.format(i_iter,
                                                                                   x_target_refined, 
                                                                                   percent_variance_x,
                                                                                   y_target_refined,
                                                                                   percent_variance_y))
          
    # exit condition: both percent variance are smaller than 0.1%
    if np.abs(percent_variance_x)<0.1 and  np.abs(percent_variance_y)<0.1:
          break

print('Refined coordinates  x: {0:5.2f}   y: {1:5.2f}'.format(x_target_refined, y_target_refined))
