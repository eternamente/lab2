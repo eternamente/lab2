{
 "cells": [
  {
   "cell_type": "code",
   "execution_count": 12,
   "id": "2306cca4-79ff-487f-873d-5974b10c6279",
   "metadata": {},
   "outputs": [],
   "source": [
    "import numpy as np\n",
    "import matplotlib.pyplot as plt\n",
    "import matplotlib.colors as colors\n",
    "import pickle\n",
    "from astropy.io import fits\n",
    "%matplotlib widget"
   ]
  },
  {
   "cell_type": "code",
   "execution_count": 13,
   "id": "3ec9f081-1ad0-449e-aca3-ea9c0079c417",
   "metadata": {},
   "outputs": [],
   "source": [
    "class MyFirstClass:\n",
    "    internal_variable = 12345\n",
    "\n",
    "    def print_hello(self): #method\n",
    "        return 'hello world'"
   ]
  },
  {
   "cell_type": "code",
   "execution_count": 14,
   "id": "ecc471dc-f8fc-4042-9242-962e953b44c2",
   "metadata": {},
   "outputs": [
    {
     "name": "stdout",
     "output_type": "stream",
     "text": [
      "12345\n",
      "12345\n"
     ]
    }
   ],
   "source": [
    "first_class = MyFirstClass()\n",
    "second_class = MyFirstClass()\n",
    "print(first_class.internal_variable)\n",
    "print(second_class.internal_variable)"
   ]
  },
  {
   "cell_type": "code",
   "execution_count": 15,
   "id": "df450f72-3bab-4543-8bc7-c9a43732d642",
   "metadata": {},
   "outputs": [
    {
     "name": "stdout",
     "output_type": "stream",
     "text": [
      "12370\n",
      "12345\n"
     ]
    }
   ],
   "source": [
    "first_class.internal_variable += 25\n",
    "\n",
    "print(first_class.internal_variable)\n",
    "print(second_class.internal_variable)"
   ]
  },
  {
   "cell_type": "code",
   "execution_count": 18,
   "id": "1ec392ac-a7a0-4ecc-84c3-0635b3b5a2dd",
   "metadata": {},
   "outputs": [
    {
     "name": "stdout",
     "output_type": "stream",
     "text": [
      "123 45\n",
      "235 56\n"
     ]
    }
   ],
   "source": [
    "class MySecondClass:\n",
    "    internal_variable = 12345 #properties\n",
    "\n",
    "    def __init__(self, x_coord, y_coord):\n",
    "        self.x_coord = x_coord\n",
    "        self.testme = y_coord\n",
    "        print(x_coord, y_coord)\n",
    "\n",
    "    def make_meshgrid(self, xval, yval):\n",
    "        x_range = np.arange(0,xval)\n",
    "        y_range = np.arange(0,yval)\n",
    "        self.X,self.Y = np.meshgrid(x_range,y_range)\n",
    "\n",
    "    def print_hello(self): #method\n",
    "        return 'Hello World'\n",
    "\n",
    "    def print_meshgrid(self):\n",
    "        print(self.X)\n",
    "        print(self.Y)\n",
    "\n",
    "first_class = MySecondClass(123,45)\n",
    "second_class = MySecondClass(235,56)"
   ]
  },
  {
   "cell_type": "code",
   "execution_count": 21,
   "id": "ef3518a3-c071-4c6f-90d9-8a9f4733a93d",
   "metadata": {},
   "outputs": [
    {
     "name": "stdout",
     "output_type": "stream",
     "text": [
      "123\n",
      "45\n",
      "[[0 1 2 3 4 5 6 7 8 9]\n",
      " [0 1 2 3 4 5 6 7 8 9]\n",
      " [0 1 2 3 4 5 6 7 8 9]\n",
      " [0 1 2 3 4 5 6 7 8 9]\n",
      " [0 1 2 3 4 5 6 7 8 9]\n",
      " [0 1 2 3 4 5 6 7 8 9]\n",
      " [0 1 2 3 4 5 6 7 8 9]\n",
      " [0 1 2 3 4 5 6 7 8 9]\n",
      " [0 1 2 3 4 5 6 7 8 9]\n",
      " [0 1 2 3 4 5 6 7 8 9]\n",
      " [0 1 2 3 4 5 6 7 8 9]\n",
      " [0 1 2 3 4 5 6 7 8 9]\n",
      " [0 1 2 3 4 5 6 7 8 9]\n",
      " [0 1 2 3 4 5 6 7 8 9]\n",
      " [0 1 2 3 4 5 6 7 8 9]\n",
      " [0 1 2 3 4 5 6 7 8 9]\n",
      " [0 1 2 3 4 5 6 7 8 9]\n",
      " [0 1 2 3 4 5 6 7 8 9]\n",
      " [0 1 2 3 4 5 6 7 8 9]\n",
      " [0 1 2 3 4 5 6 7 8 9]\n",
      " [0 1 2 3 4 5 6 7 8 9]\n",
      " [0 1 2 3 4 5 6 7 8 9]\n",
      " [0 1 2 3 4 5 6 7 8 9]\n",
      " [0 1 2 3 4 5 6 7 8 9]\n",
      " [0 1 2 3 4 5 6 7 8 9]\n",
      " [0 1 2 3 4 5 6 7 8 9]\n",
      " [0 1 2 3 4 5 6 7 8 9]\n",
      " [0 1 2 3 4 5 6 7 8 9]\n",
      " [0 1 2 3 4 5 6 7 8 9]\n",
      " [0 1 2 3 4 5 6 7 8 9]\n",
      " [0 1 2 3 4 5 6 7 8 9]\n",
      " [0 1 2 3 4 5 6 7 8 9]\n",
      " [0 1 2 3 4 5 6 7 8 9]\n",
      " [0 1 2 3 4 5 6 7 8 9]\n",
      " [0 1 2 3 4 5 6 7 8 9]\n",
      " [0 1 2 3 4 5 6 7 8 9]\n",
      " [0 1 2 3 4 5 6 7 8 9]\n",
      " [0 1 2 3 4 5 6 7 8 9]\n",
      " [0 1 2 3 4 5 6 7 8 9]\n",
      " [0 1 2 3 4 5 6 7 8 9]]\n",
      "[[0 1 2 3 4 5 6 7 8 9]\n",
      " [0 1 2 3 4 5 6 7 8 9]\n",
      " [0 1 2 3 4 5 6 7 8 9]\n",
      " [0 1 2 3 4 5 6 7 8 9]\n",
      " [0 1 2 3 4 5 6 7 8 9]\n",
      " [0 1 2 3 4 5 6 7 8 9]\n",
      " [0 1 2 3 4 5 6 7 8 9]\n",
      " [0 1 2 3 4 5 6 7 8 9]\n",
      " [0 1 2 3 4 5 6 7 8 9]\n",
      " [0 1 2 3 4 5 6 7 8 9]\n",
      " [0 1 2 3 4 5 6 7 8 9]\n",
      " [0 1 2 3 4 5 6 7 8 9]\n",
      " [0 1 2 3 4 5 6 7 8 9]\n",
      " [0 1 2 3 4 5 6 7 8 9]\n",
      " [0 1 2 3 4 5 6 7 8 9]\n",
      " [0 1 2 3 4 5 6 7 8 9]\n",
      " [0 1 2 3 4 5 6 7 8 9]\n",
      " [0 1 2 3 4 5 6 7 8 9]\n",
      " [0 1 2 3 4 5 6 7 8 9]\n",
      " [0 1 2 3 4 5 6 7 8 9]\n",
      " [0 1 2 3 4 5 6 7 8 9]\n",
      " [0 1 2 3 4 5 6 7 8 9]\n",
      " [0 1 2 3 4 5 6 7 8 9]\n",
      " [0 1 2 3 4 5 6 7 8 9]\n",
      " [0 1 2 3 4 5 6 7 8 9]\n",
      " [0 1 2 3 4 5 6 7 8 9]\n",
      " [0 1 2 3 4 5 6 7 8 9]\n",
      " [0 1 2 3 4 5 6 7 8 9]\n",
      " [0 1 2 3 4 5 6 7 8 9]\n",
      " [0 1 2 3 4 5 6 7 8 9]\n",
      " [0 1 2 3 4 5 6 7 8 9]\n",
      " [0 1 2 3 4 5 6 7 8 9]\n",
      " [0 1 2 3 4 5 6 7 8 9]\n",
      " [0 1 2 3 4 5 6 7 8 9]\n",
      " [0 1 2 3 4 5 6 7 8 9]\n",
      " [0 1 2 3 4 5 6 7 8 9]\n",
      " [0 1 2 3 4 5 6 7 8 9]\n",
      " [0 1 2 3 4 5 6 7 8 9]\n",
      " [0 1 2 3 4 5 6 7 8 9]\n",
      " [0 1 2 3 4 5 6 7 8 9]]\n"
     ]
    }
   ],
   "source": [
    "print(first_class.x_coord)\n",
    "print(first_class.testme)\n",
    "\n",
    "first_class.make_meshgrid(10,40)\n",
    "print(first_class.X)\n",
    "first_class.print_meshgrid()"
   ]
  },
  {
   "cell_type": "code",
   "execution_count": 47,
   "id": "b43c2a64-87c6-4ece-a8b3-2b91ba7543e1",
   "metadata": {},
   "outputs": [],
   "source": [
    "class TemporaryAperturePhotometry:\n",
    "    \n",
    "    def __init__(self):\n",
    "        self.data_path = './group07_HAT-P-12_2011-03-09/'\n",
    "        self.readout_noise = 7.6\n",
    "        self.gain = 2.73\n",
    "        self.bias_std = 1.79\n",
    "        self.median_bias = pickle.load(open('median_bias.p', 'rb'))\n",
    "        self.median_bias_error = pickle.load(open('median_bias_error.p', 'rb'))\n",
    "        #loading normalized flat and assoc. error\n",
    "        self.median_normalized_flat = pickle.load(open('median_normalized_flat_errors.p', 'rb'))\n",
    "\n",
    "        self.science_path = self.data_path + 'science/'\n",
    "        self.science_list = np.genfromtxt(self.science_path + 'science.txt', dtype=str)\n",
    "        self.science_size = len(self.science_list)\n",
    "\n",
    "        ylen, xlen = np.shape(self.median_bias)\n",
    "        X_axis = np.arange(0, xlen, 1.)\n",
    "        Y_axis = np.arange(0, ylen, 1.)\n",
    "        self.X,self.Y = np.meshgrid(X_axis, Y_axis)\n",
    "\n",
    "    def provide_aperture_parameters(self, aperture_size, inner_radius, outer_radius)\n",
    "        self.aperture_size = aperture_radius\n",
    "\n",
    "    def aperture_photometry(self):\n",
    "\n",
    "        self.airmass = np.empty(self.science_size)\n",
    "        self.exptime = np.empty(self.science_size)\n",
    "        self.julian_date = np.empty(self.science_size)\n",
    "\n",
    "        for i_science, science_name in enumerate(self.science_list):\n",
    "            science_fits = fits.open(self.science_path + science_name) #fix\n",
    "            self.airmass[i_science] = science_fits[0].header['AIRMASS']\n",
    "            self.exptime[i_science] = science_fits[0].header['EXPTIME']\n",
    "            self.julian_date[i_science] = science_fits[0].header['JD']\n",
    "\n",
    "            science_data = science_fits[0].data * self.gain\n",
    "            science_corrected, science_corrected_error = self.correct_science_frame(science_data)\n",
    "\n",
    "            science_fits.close()\n",
    "\n",
    "    def correct_science_frame(self, science_data):\n",
    "\n",
    "        science_debiased = science_data - self.median_bias\n",
    "        science_corrected = science_debiased / self.median_normalized_flat\n",
    "\n",
    "        #associated errors\n",
    "        #science_debiased_error = np.sqrt(self.readout_noise**2 + science_debiased +\n",
    "\n",
    "#incorporate centriod algorithm, sky background, and do aperture photometry\n",
    "        "
   ]
  },
  {
   "cell_type": "code",
   "execution_count": 48,
   "id": "36a1d36e-180a-47fb-af03-18da7e5e836e",
   "metadata": {},
   "outputs": [
    {
     "ename": "TypeError",
     "evalue": "cannot unpack non-iterable NoneType object",
     "output_type": "error",
     "traceback": [
      "\u001b[1;31m---------------------------------------------------------------------------\u001b[0m",
      "\u001b[1;31mTypeError\u001b[0m                                 Traceback (most recent call last)",
      "Cell \u001b[1;32mIn[48], line 2\u001b[0m\n\u001b[0;32m      1\u001b[0m test_target \u001b[38;5;241m=\u001b[39m TemporaryAperturePhotometry()\n\u001b[1;32m----> 2\u001b[0m \u001b[43mtest_target\u001b[49m\u001b[38;5;241;43m.\u001b[39;49m\u001b[43maperture_photometry\u001b[49m\u001b[43m(\u001b[49m\u001b[43m)\u001b[49m\n\u001b[0;32m      4\u001b[0m \u001b[38;5;28mprint\u001b[39m(test_target\u001b[38;5;241m.\u001b[39mjulian_date)\n",
      "Cell \u001b[1;32mIn[47], line 35\u001b[0m, in \u001b[0;36mTemporaryAperturePhotometry.aperture_photometry\u001b[1;34m(self)\u001b[0m\n\u001b[0;32m     32\u001b[0m \u001b[38;5;28mself\u001b[39m\u001b[38;5;241m.\u001b[39mjulian_date[i_science] \u001b[38;5;241m=\u001b[39m science_fits[\u001b[38;5;241m0\u001b[39m]\u001b[38;5;241m.\u001b[39mheader[\u001b[38;5;124m'\u001b[39m\u001b[38;5;124mJD\u001b[39m\u001b[38;5;124m'\u001b[39m]\n\u001b[0;32m     34\u001b[0m science_data \u001b[38;5;241m=\u001b[39m science_fits[\u001b[38;5;241m0\u001b[39m]\u001b[38;5;241m.\u001b[39mdata \u001b[38;5;241m*\u001b[39m \u001b[38;5;28mself\u001b[39m\u001b[38;5;241m.\u001b[39mgain\n\u001b[1;32m---> 35\u001b[0m science_corrected, science_corrected_error \u001b[38;5;241m=\u001b[39m \u001b[38;5;28mself\u001b[39m\u001b[38;5;241m.\u001b[39mcorrect_science_frame(science_data)\n\u001b[0;32m     37\u001b[0m science_fits\u001b[38;5;241m.\u001b[39mclose()\n",
      "\u001b[1;31mTypeError\u001b[0m: cannot unpack non-iterable NoneType object"
     ]
    }
   ],
   "source": [
    "test_target = TemporaryAperturePhotometry()\n",
    "test_target.aperture_photometry()\n",
    "\n",
    "print(test_target.julian_date)"
   ]
  },
  {
   "cell_type": "code",
   "execution_count": null,
   "id": "7907f0a5-e346-4f99-a627-ed76607e9e6d",
   "metadata": {},
   "outputs": [],
   "source": []
  }
 ],
 "metadata": {
  "kernelspec": {
   "display_name": "Python 3 (ipykernel)",
   "language": "python",
   "name": "python3"
  },
  "language_info": {
   "codemirror_mode": {
    "name": "ipython",
    "version": 3
   },
   "file_extension": ".py",
   "mimetype": "text/x-python",
   "name": "python",
   "nbconvert_exporter": "python",
   "pygments_lexer": "ipython3",
   "version": "3.9.20"
  }
 },
 "nbformat": 4,
 "nbformat_minor": 5
}
