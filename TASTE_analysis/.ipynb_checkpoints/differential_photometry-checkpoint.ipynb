{
 "cells": [
  {
   "cell_type": "code",
   "execution_count": null,
   "id": "de21dbc1-4eee-441c-ac8f-d8ea78da7362",
   "metadata": {},
   "outputs": [],
   "source": [
    "import numpy as np\n",
    "import matplotlib.pyplot as plt\n",
    "import matplotlib.colors as colors\n",
    "import pickle\n",
    "\n",
    "%matplotlib widget \n",
    "\n",
    "from time import time"
   ]
  },
  {
   "cell_type": "code",
   "execution_count": null,
   "id": "10589347",
   "metadata": {},
   "outputs": [],
   "source": [
    "x_target = \n",
    "y_target = \n",
    "\n",
    "x_reference_01 = \n",
    "y_reference_01 = \n",
    "\n",
    "x_reference_02 = \n",
    "y_reference_02 = \n",
    "\n",
    "aperture = 8\n",
    "\n",
    "inner_radius = 8\n",
    "outer_radius = 17"
   ]
  },
  {
   "cell_type": "code",
   "execution_count": null,
   "id": "5197afe0-ea9f-4575-8fad-05a32070cdeb",
   "metadata": {},
   "outputs": [],
   "source": [
    "from aperture_class import AprturePhotometry\n",
    "\n",
    "time_start = time()\n",
    "\n",
    "target_ap08 = AprturePhotometry()\n",
    "\n",
    "target_ap08.provide_aperture_parameters(inner_radius, \n",
    "                                        outer_radius, \n",
    "                                        aperture, \n",
    "                                        x_target, \n",
    "                                        y_target)\n",
    "target_ap08.aperture_photometry()\n",
    "\n",
    "\n",
    "time_end = time()\n",
    "\n",
    "print(\"Elapsed time\", time_start-time_end)\n"
   ]
  },
  {
   "cell_type": "code",
   "execution_count": null,
   "id": "6553877d",
   "metadata": {},
   "outputs": [],
   "source": [
    "plt.figure(figsize=(6,6))\n",
    "plt.scatter(target_ap08.bjd_tdb, target_ap08.aperture, s=2)\n",
    "plt.scatter(reference_02_ap08.bjd_tdb, reference_02_ap08.aperture, s=2)\n"
   ]
  },
  {
   "cell_type": "code",
   "execution_count": null,
   "id": "24d101e3",
   "metadata": {},
   "outputs": [],
   "source": [
    "time_offset = 24600024.00\n",
    "normalization_index = 200 # ?\n",
    "\n",
    "fig, axs = plt.subplots(5,1, sharex=True, figsize=(8,10))\n",
    "fig.subplots_adjust(hspace=0.05)\n",
    "\n",
    "axs[0].scatter(target_ap08.bjd_tdb-time_offset, \n",
    "               target_ap08.aperture / target_ap08.aperture[normalization_index],\n",
    "               s=2,\n",
    "               zorder=3,\n",
    "               c='C0',\n",
    "               label='Target')\n",
    "\n",
    "axs[0].scatter(reference01_ap08.bjd_tdb-time_offset, \n",
    "               reference01_ap08.aperture / reference01_ap08.aperture[normalization_index],\n",
    "               s=2,\n",
    "               zorder=3,\n",
    "               c='C0',\n",
    "               label='Target')\n",
    "\n",
    "axs[0].scatter(reference02_ap08.bjd_tdb-time_offset, \n",
    "               reference02_ap08.aperture / reference02_ap08.aperture[normalization_index],\n",
    "               s=2,\n",
    "               zorder=3,\n",
    "               c='C0',\n",
    "               label='Target')\n",
    "axs[0].set_label('Normalized flux')\n",
    "axs[0].legend()\n",
    "\n",
    "axs[1].scatter(target_ap08.bjd_tdb, target_ap08.airmass, s=2, c='C0', label='Airmass')\n",
    "axs[1].set_ylabel('Airmass')\n",
    "\n",
    "axs[2].scatter(target_ap08.bjd_tdb - time_offset, target_ap08.skybackground, \n",
    "               s=2, zorder=3, c='C0', label='Target')\n",
    "\n",
    "axs[2].scatter(reference01_ap08.bjd_tdb - time_offset, reference01_ap08.skybackground, \n",
    "               s=2, zorder=3, c='C1', label='Target')\n",
    "\n",
    "axs[2].scatter(reference02_ap08.bjd_tdb - time_offset, reference02_ap08.skybackground, \n",
    "               s=2, zorder=3, c='C2', label='Target')\n",
    "\n",
    "\n",
    "axs[4].scatter(target_ap08.bjd_tdb - time_offset, \n",
    "               target_ap08.x_refined - target_ap08.x_refined[normalization_index],\n",
    "                s=2, zorder=3, c='C0', label='X FWHM')\n",
    "\n",
    "axs[4].scatter(target_ap08.bjd_tdb - time_offset, \n",
    "               target_ap08.y_refined - target_ap08.y_refined[normalization_index],\n",
    "                s=2, zorder=2, c='C1', label='Y FWHM')\n",
    "\n",
    "axs[4].set_ylabel('Telescope drift [pixel]')\n",
    "axs[4].legend()\n",
    "axs[4].set_label(\"Bjd-tdb ....чот там \")\n",
    "\n",
    "plt.show()\n"
   ]
  },
  {
   "cell_type": "code",
   "execution_count": null,
   "id": "26476eaa",
   "metadata": {},
   "outputs": [],
   "source": [
    "plt.figure()\n",
    "plt.scatter(target_ap08.bjd_tdb - time_offset, target_ap08.aperture/reference_01_ap08.aperture,\n",
    "            s=2,\n",
    "            label='Ref #1')\n",
    "plt.scatter(target_ap08.bjd_tdb - time_offset, target_ap08.aperture/reference_02_ap08.aperture,\n",
    "            s=2,\n",
    "            label='Ref #2')\n",
    "\n",
    "plt.scatter(target_ap08.bjd_tdb - time_offset,\n",
    "            target_ap08.aperture/ (reference_01_ap08.aperture + reference_02_ap08.aperture),\n",
    "            s=2,\n",
    "            label='All refs')"
   ]
  },
  {
   "cell_type": "code",
   "execution_count": null,
   "id": "92e8b540",
   "metadata": {},
   "outputs": [],
   "source": [
    "differential_ap08_ref01 = target_ap08.aperture/reference_01_ap08.aperture\n",
    "differential_ap08_ref02 = target_ap08.aperture/reference_02_ap08.aperture\n",
    "differential_ap08_allref = target_ap08.aperture/(reference_02_ap08.aperture + reference_02_ap08.aperture)\n",
    "\n",
    "median_bjdtdb = np.median(target_ap08.bjd_tdb)\n",
    "\n",
    "time_01 = time_offset + 0.340 # это значение взято из графика!\n",
    "\n",
    "time_02 = time_offset + 0.430 # это значение взято из графика!\n",
    "\n",
    "out_transit_selection = (target_ap08.bjd_tdb < time_01) | (target_ap08.bjd_tdb > time_02)\n",
    "\n",
    "out_transit_selection = (\n",
    "    (target_ap08.bjd_tdb < time_01) | (target_ap08.bjd_tdb > time_02\n",
    "     ) & (target_ap08.bjd_tdb < time_offset + 0.450))\n",
    "\n"
   ]
  },
  {
   "cell_type": "code",
   "execution_count": null,
   "id": "95eed5b1",
   "metadata": {},
   "outputs": [
    {
     "ename": "NameError",
     "evalue": "name 'target_ap08' is not defined",
     "output_type": "error",
     "traceback": [
      "\u001b[0;31m---------------------------------------------------------------------------\u001b[0m",
      "\u001b[0;31mNameError\u001b[0m                                 Traceback (most recent call last)",
      "Cell \u001b[0;32mIn[2], line 2\u001b[0m\n\u001b[1;32m      1\u001b[0m \u001b[38;5;28;01mfrom\u001b[39;00m \u001b[38;5;21;01mnumpy\u001b[39;00m\u001b[38;5;21;01m.\u001b[39;00m\u001b[38;5;21;01mpolynomial\u001b[39;00m \u001b[38;5;28;01mimport\u001b[39;00m Polynomial\n\u001b[0;32m----> 2\u001b[0m poly_ap08_ref02_pfit \u001b[38;5;241m=\u001b[39m Polynomial\u001b[38;5;241m.\u001b[39mfit(\u001b[43mtarget_ap08\u001b[49m\u001b[38;5;241m.\u001b[39mbjd_tdb[out_transit_selection])\n",
      "\u001b[0;31mNameError\u001b[0m: name 'target_ap08' is not defined"
     ]
    }
   ],
   "source": [
    "from numpy.polynomial import Polynomial\n",
    "poly_ap08_ref01_pfit = Polynomial.fit(target_ap08.bjd_tdb[out_transit_selection] - median_bjdtdb,\n",
    "                                      differential_ap08_ref01[out_transit_selectio], deg=2)\n",
    "\n",
    "poly_ap08_ref02_pfit = Polynomial.fit(target_ap08.bjd_tdb[out_transit_selection] - median_bjdtdb,\n",
    "                                      differential_ap08_ref02[out_transit_selectio], deg=2)\n",
    "\n",
    "poly_ap08_allref_pfit = Polynomial.fit(target_ap08.bjd_tdb[out_transit_selection] - median_bjdtdb,\n",
    "                                      differential_ap08_allref[out_transit_selectio], deg=2)\n",
    "\n",
    "# y = c0 + c1*(x-x0) + c2*(x-x0)**2 объяснение почему надо вычитать median_bjdtdb, иначе будет computational error\n",
    "\n",
    "\n",
    "\n"
   ]
  },
  {
   "cell_type": "code",
   "execution_count": null,
   "id": "5fb5c869",
   "metadata": {},
   "outputs": [],
   "source": [
    "plt.figure()\n",
    "plt.scatter(target_ap08.bjd_tdb - time_offset, target_ap08.aperture/reference_01_ap08.aperture,\n",
    "            s=2,\n",
    "            label='Ref #1')\n",
    "plt.plottarget_ap08.(.bjd_tdb - time_offset,)\n",
    "plt.scatter(target_ap08.bjd_tdb - time_offset, target_ap08.aperture/reference_02_ap08.aperture,\n",
    "            s=2,\n",
    "            label='Ref #2')\n",
    "\n",
    "plt.scatter(target_ap08.bjd_tdb - time_offset,\n",
    "            target_ap08.aperture/ (reference_01_ap08.aperture + reference_02_ap08.aperture),\n",
    "            s=2,\n",
    "            label='All refs')"
   ]
  },
  {
   "cell_type": "code",
   "execution_count": null,
   "id": "3748d1da",
   "metadata": {},
   "outputs": [],
   "source": []
  },
  {
   "cell_type": "code",
   "execution_count": null,
   "id": "754a7796",
   "metadata": {},
   "outputs": [],
   "source": []
  },
  {
   "cell_type": "code",
   "execution_count": null,
   "id": "2a4a787c",
   "metadata": {},
   "outputs": [],
   "source": [
    "pickle.dump(differential_ap08_ref01, open('differential_ap08_ref01.p', 'wb'))\n",
    "\n",
    "# v1 10 +- 1 => 0.1 -> 10% error\n",
    "# v2 5 +- 0.6 => 0.12 -> 12 % error"
   ]
  }
 ],
 "metadata": {
  "kernelspec": {
   "display_name": "astrolab2",
   "language": "python",
   "name": "python3"
  },
  "language_info": {
   "codemirror_mode": {
    "name": "ipython",
    "version": 3
   },
   "file_extension": ".py",
   "mimetype": "text/x-python",
   "name": "python",
   "nbconvert_exporter": "python",
   "pygments_lexer": "ipython3",
   "version": "3.9.19"
  }
 },
 "nbformat": 4,
 "nbformat_minor": 5
}
