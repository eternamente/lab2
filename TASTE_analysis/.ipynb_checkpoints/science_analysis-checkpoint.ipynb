{
 "cells": [
  {
   "cell_type": "markdown",
   "id": "5e353cd8",
   "metadata": {},
   "source": [
    "## Science Data Analysis"
   ]
  },
  {
   "cell_type": "code",
   "execution_count": 4,
   "id": "4e90f174",
   "metadata": {},
   "outputs": [],
   "source": [
    "import numpy as np\n",
    "import matplotlib.pyplot as plt\n",
    "from astropy.io import fits\n",
    "import pickle\n",
    "%matplotlib notebook"
   ]
  },
  {
   "cell_type": "code",
   "execution_count": 5,
   "id": "a4d30e16",
   "metadata": {},
   "outputs": [
    {
     "name": "stdout",
     "output_type": "stream",
     "text": [
      "\u001b[1m\u001b[36mbias\u001b[m\u001b[m/                            flat_stack.p\n",
      "bias.ipynb                       median_bias.p\n",
      "bias_stack.p                     median_bias_error.p\n",
      "\u001b[1m\u001b[36mcorrect\u001b[m\u001b[m/                         median_normalized_flat.p\n",
      "\u001b[1m\u001b[36mflat\u001b[m\u001b[m/                            median_normalized_flat_errors.p\n",
      "flat.ipynb                       \u001b[1m\u001b[36mscience\u001b[m\u001b[m/\n",
      "flat_normalization_factors.p     science_analysis.ipynb\n",
      "flat_normalized_stack.p\n"
     ]
    }
   ],
   "source": [
    "ls\n"
   ]
  },
  {
   "cell_type": "code",
   "execution_count": 6,
   "id": "2f6501b0",
   "metadata": {},
   "outputs": [],
   "source": [
    "science_list=np.genfromtxt(\"./science/science.list\", dtype='str')"
   ]
  },
  {
   "cell_type": "code",
   "execution_count": 7,
   "id": "74b3331a",
   "metadata": {},
   "outputs": [
    {
     "name": "stdout",
     "output_type": "stream",
     "text": [
      "1233\n"
     ]
    }
   ],
   "source": [
    "print(len(science_list))"
   ]
  },
  {
   "cell_type": "markdown",
   "id": "1d686750",
   "metadata": {},
   "source": [
    "This is too many images for the computer, so we must do correction 'On the Fly', we save only the final outcome, and no intermediate data products. This is done on missions like PLATO (aperture photometry done on the satellite, only final data products are sent down. Happens with SMAP too!\n",
    "\n",
    "We must check that we are doing things correctly on a small subsample (10-20 images)  then you do it for the hundreds or thousands of images. "
   ]
  },
  {
   "cell_type": "code",
   "execution_count": 8,
   "id": "09979070",
   "metadata": {},
   "outputs": [],
   "source": [
    "median_bias=pickle.load(open('median_bias.p','rb'))\n",
    "median_bias_error=pickle.load(open('median_bias_error.p','rb'))\n",
    "median_normalized_flat=pickle.load(open('median_normalized_flat.p','rb'))\n",
    "median_normalized_flat_error=pickle.load(open('median_normalized_flat_errors.p','rb'))"
   ]
  },
  {
   "cell_type": "code",
   "execution_count": 9,
   "id": "98cdab94",
   "metadata": {},
   "outputs": [
    {
     "data": {
      "text/plain": [
       "10"
      ]
     },
     "execution_count": 9,
     "metadata": {},
     "output_type": "execute_result"
    }
   ],
   "source": [
    "science_test_list=science_list[:10]\n",
    "len(science_test_list)"
   ]
  },
  {
   "cell_type": "code",
   "execution_count": 25,
   "id": "539f17b0",
   "metadata": {},
   "outputs": [
    {
     "name": "stderr",
     "output_type": "stream",
     "text": [
      "/var/folders/3w/7g5zt5xj0jn5c1q54g2z15wc0000gq/T/ipykernel_16949/2216529296.py:9: RuntimeWarning: divide by zero encountered in divide\n",
      "  science_corrected = science_debiased / median_normalized_flat  # Se\n",
      "/var/folders/3w/7g5zt5xj0jn5c1q54g2z15wc0000gq/T/ipykernel_16949/2216529296.py:9: RuntimeWarning: invalid value encountered in divide\n",
      "  science_corrected = science_debiased / median_normalized_flat  # Se\n",
      "/var/folders/3w/7g5zt5xj0jn5c1q54g2z15wc0000gq/T/ipykernel_16949/2216529296.py:12: RuntimeWarning: divide by zero encountered in divide\n",
      "  science_corrected_error = science_corrected * np.sqrt((science_debiased_error/science_debiased)**2\n",
      "/var/folders/3w/7g5zt5xj0jn5c1q54g2z15wc0000gq/T/ipykernel_16949/2216529296.py:13: RuntimeWarning: divide by zero encountered in divide\n",
      "  + (median_normalized_flat_error/median_normalized_flat)**2)\n",
      "/var/folders/3w/7g5zt5xj0jn5c1q54g2z15wc0000gq/T/ipykernel_16949/2216529296.py:12: RuntimeWarning: invalid value encountered in multiply\n",
      "  science_corrected_error = science_corrected * np.sqrt((science_debiased_error/science_debiased)**2\n"
     ]
    }
   ],
   "source": [
    "dir_name = 'correct'\n",
    "\n",
    "for science_name in science_test_list:\n",
    "    science_fits = fits.open('science/' + science_name)\n",
    "    science_data = science_fits[0].data * science_fits[0].header['GAIN']\n",
    "    science_fits.close()\n",
    "    \n",
    "    science_debiased = science_data - median_bias  # the flux\n",
    "    science_corrected = science_debiased / median_normalized_flat  # Se\n",
    "    # associated errors\n",
    "    science_debiased_error = np.sqrt(science_fits[0].header['RDNOISE']**2 + science_debiased + median_bias_error**2)\n",
    "    science_corrected_error = science_corrected * np.sqrt((science_debiased_error/science_debiased)**2\n",
    "                                                          + (median_normalized_flat_error/median_normalized_flat)**2)\n",
    "    # Ensure to close the sqrt parenthesis above this line\n",
    "    \n",
    "    pickle.dump(science_corrected, open(dir_name + science_name[:-5] + '.p', 'wb'))\n",
    "    pickle.dump(science_corrected_error, open(dir_name + science_name[:-5] + 'err.p', 'wb'))\n",
    "\n"
   ]
  },
  {
   "cell_type": "markdown",
   "id": "ef1f56ab",
   "metadata": {},
   "source": [
    "We get a runtime warning because the overscan has 0 values which get into the median_normalized flat. If we get this error anywhere else, we should investigate the source of the warning."
   ]
  },
  {
   "cell_type": "code",
   "execution_count": 22,
   "id": "7958a642",
   "metadata": {},
   "outputs": [
    {
     "name": "stdout",
     "output_type": "stream",
     "text": [
      "[2455630.447558 2455630.4477   2455630.447837 2455630.447974\n",
      " 2455630.448111 2455630.448253 2455630.44839  2455630.448526\n",
      " 2455630.448669 2455630.448811]\n",
      "[1.216 1.216 1.215 1.215 1.214 1.214 1.213 1.213 1.212 1.212]\n",
      "[10. 10. 10. 10. 10. 10. 10. 10. 10. 10.]\n"
     ]
    }
   ],
   "source": [
    "n_images = len(science_test_list)\n",
    "\n",
    "array_jd = np.zeros(n_images)\n",
    "array_exptime = np.zeros(n_images)\n",
    "array_airmass = np.zeros(n_images)\n",
    "\n",
    "for i_science, science_name in enumerate(science_test_list):\n",
    "    science_fits = fits.open('science/' + science_name)\n",
    "    array_jd[i_science] = science_fits[0].header['JD']\n",
    "    array_airmass[i_science] = science_fits[0].header['AIRMASS']\n",
    "    array_exptime[i_science] = science_fits[0].header['EXPTIME']\n",
    "    science_fits.close()\n",
    "\n",
    "print(array_jd)\n",
    "print(array_airmass)\n",
    "print(array_exptime)"
   ]
  },
  {
   "cell_type": "code",
   "execution_count": null,
   "id": "293dc5b9-15d8-4019-8eb9-5e01a191a123",
   "metadata": {},
   "outputs": [],
   "source": []
  }
 ],
 "metadata": {
  "kernelspec": {
   "display_name": "Python 3 (ipykernel)",
   "language": "python",
   "name": "python3"
  },
  "language_info": {
   "codemirror_mode": {
    "name": "ipython",
    "version": 3
   },
   "file_extension": ".py",
   "mimetype": "text/x-python",
   "name": "python",
   "nbconvert_exporter": "python",
   "pygments_lexer": "ipython3",
   "version": "3.9.19"
  }
 },
 "nbformat": 4,
 "nbformat_minor": 5
}
