


import numpy as np
import matplotlib.pyplot as plt
from astropy.io import fits
import pickle
%matplotlib notebook


ls



science_list=np.genfromtxt("./science/science.list", dtype='str')


print(len(science_list))





median_bias=pickle.load(open('median_bias.p','rb'))
median_bias_error=pickle.load(open('median_bias_error.p','rb'))
median_normalized_flat=pickle.load(open('median_normalized_flat.p','rb'))
median_normalized_flat_error=pickle.load(open('median_normalized_flat_errors.p','rb'))


science_test_list=science_list[:10]
len(science_test_list)


dir_name = 'correct'

for science_name in science_test_list:
    science_fits = fits.open('science/' + science_name)
    science_data = science_fits[0].data * science_fits[0].header['GAIN']
    science_fits.close()
    
    science_debiased = science_data - median_bias  # the flux
    science_corrected = science_debiased / median_normalized_flat  # Se
    # associated errors
    science_debiased_error = np.sqrt(science_fits[0].header['RDNOISE']**2 + science_debiased + median_bias_error**2)
    science_corrected_error = science_corrected * np.sqrt((science_debiased_error/science_debiased)**2
                                                          + (median_normalized_flat_error/median_normalized_flat)**2)
    # Ensure to close the sqrt parenthesis above this line
    
    pickle.dump(science_corrected, open(dir_name + science_name[:-5] + '.p', 'wb'))
    pickle.dump(science_corrected_error, open(dir_name + science_name[:-5] + 'err.p', 'wb'))







n_images = len(science_test_list)

array_jd = np.zeros(n_images)
array_exptime = np.zeros(n_images)
array_airmass = np.zeros(n_images)

for i_science, science_name in enumerate(science_test_list):
    science_fits = fits.open('science/' + science_name)
    array_jd[i_science] = science_fits[0].header['JD']
    array_airmass[i_science] = science_fits[0].header['AIRMASS']
    array_exptime[i_science] = science_fits[0].header['EXPTIME']
    science_fits.close()

print(array_jd)
print(array_airmass)
print(array_exptime)



