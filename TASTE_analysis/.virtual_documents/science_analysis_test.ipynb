


import numpy as np
import matplotlib.pyplot as plt
from astropy.io import fits
import pickle
%matplotlib notebook


ls



science_list=np.genfromtxt("./science/science.list", dtype='str')


print(len(science_list))





science_test_list=science_list[:10]
len(science_test_list)


median_bias=pickle.load(open('median_bias.p','rb'))
median_bias_error=pickle.load(open('median_bias_error.p','rb'))
median_normalized_flat=pickle.load(open('median_normalized_flat.p','rb'))
median_normalized_flat_error=pickle.load(open('median_normalized_flat_errors.p','rb'))


for science_name in science_test_list:
    science_fits=fits.open('science/'+science_name)
    science_data=science_fits[0].data*science_fits[0].header['GAIN']
    science_fits.close()
    
    science_debiased=science_data-median_bias #the flux
    science_corrected=science_debiased/median_normalized_flat #Se
    #associated errors
    science_debiased_error=np.sqrt(science_fits[0].header['RDNOISE']**2+science_debiased+median_bias_error**2)
    science_corrected_error=science_corrected*np.sqrt((science_debiased_error/science_debiased)**2
                                                      +(median_normalized_flat_error/median_normalized_flat)**2)
    





# in astronomy we use BJD_TDB - barycentric julian date of the dynamical time of the barycenter, so the reference is at the barycenter of the
# solar system and not the earth
# when you switch from UTC to BJD TDB you have to account for where we are in earth's orbit. delay can be up to 16 minutes so it's really important


# something may be missing here, check later with posted ipnyb files
# initializing empty arrays
n_images = len(science_test_list)
array_jd = np.zeros(n_images)
array_exptime = np.zeros(n_images)
array_airmass = np.zeros(n_images)

for i_science,science_name in enumerate(science_test_list):
    science_fits = fits.open('science/' + science_name)
    array_jd[i_science] = science_fits[0].header['JD']
    array_airmass[i_science] = science_fits[0].header['AIRMASS']
    array_exptime[i_science] = science_fits[0].header['EXPTIME']
    science_fits.close()
print(array_jd)
print(array_exptime)
print(array_airmass)


array_midexposure = array_jd + array_exptime/2./86400.
print(array_midexposure)


from astropy.time import Time
from astropy import coordinates as coord
from astropy import units as u


in science_fits = fits.open('group___/science/' + science_test_list[0])
print(science_fits[0].header['OBJCTRA'], science_fits[0].header['OBJCTDEC'])


telescope = coord.SkyCoord(RA, DEC, unit = (u.hourangle, u.deg), frame = 'icrs')
target = coord.SkyCoord('copy obj RA number', 'copy obj DEC number', unit = (u.hourangle, u.deg), frame='icrs')
# icrs is international celestial reference system
# i can't run this right now so i can't copy the numbers into it
# check coordinates on simbad to be super safe, otherwise use coordinates of the object


# good time to check out the documentation for astropy - coords, time
telescope.ra.deg - target.ra.deg


# science_fits[0].header['SITELAT']
# science_fits[0].header['SITELONG']
time_object = Time(array_midexposure, format = 'jd', scale = 'utc', location = ('45.8472d','11.569d'))
# location is latitude and longitude of the telescope
# i copied his so don't use that, change it


mjd = array_jd - 2400000.5
print(science_fits[0].header['MJD']) # modified julian date - not really used anymore, but from the time when there were byte allocation limits
print(mjd[0])
# we don't need this part it's just here for intrigue?


bjd_tdb = time_object.tdb + time_object.light_travel_time(target, ephemeris = 'jpl')
# ephemeris: astronomical reference values for our target at a specific time
# those related to the earth at the specific julian date wrt barycenter
# jplephem is a missing package
# install with pip install --user jplephem into our conda environment
# running this may take time because it has to download ephemeris from jpl


print((bjd_tdb.value - array_midexposure)*86400)


print((time_object.tdb.value - array_midexposure)*86400)


jd_plot = np.arange(2460000.000, 2460365.25, 0.01)
time_plot = Time(jd_plot, format='jd', scale='utc', location = ('',''))
llt_target_plot = time_plot.light_travel_time(target, ephemeris='jpl')
llt_telescope_plot = time_plot.light_travel_time(telescope, ephemeris='jpl')


plt.figure(figsize=(6,4))
plt.plot(jd_plot, llt_target_plot.to_value(u.min), label='LLT of target')
plt.plot(jd_plot, llt_telescope_plot.to_value(u.min), label='LLT of telescope')
plt.legend()
plt.xlabel('JD')
plt.ylabel('Minutes')
plt.show()


plt.figure(figsize=(6,4))
plt.plot(jd_plot, llt_target_plot.to_value(u.s)-llt_telescope_plot.to_value(u.s), label='LLT difference target-telescope')
plt.legend()
plt.xlabel('JD')
plt.ylabel('Seconds')
plt.show()
# the difference is small but increases and decreases over time


# identify target and reference star for aperture photography (?)
science_frame_name = './correct/' + science_test_list[-1][:-5] + '.p'
science_corrected = pickle.load(open(science_frame_name,'rb'))
import matplotlib.colors as colors

vmin = np.amin(science_corrected[:,100:400])
vmax = np.amax(science_corrected[:,100:400])
print('vmin: {0:5.2f} vmax: {0:5.2f} '.format(vmin,vmax))

fig.ax = plt.subplots(1, figsize=(8,3))
im1 = plt.imshow(science_corrected, cmap=plt.colormaps['magma'], norm=colors.LogNorm(vmin=vmin, vmax=vmax), origin = 'lower')
# by changing the colors you can reproduce what you would see in ds9 because the color scale is logarithmic
plt.colorbar(im1, ax=ax)
plt.xlabel('X [pixels]')
plt.ylabel('Y [pixels}')
plt.show()


# go to simbad, find your target, identify your target in the field of view
# also check the rotation of the field to help you find the target and reference
# this is in the fits file under ROTANGLE
