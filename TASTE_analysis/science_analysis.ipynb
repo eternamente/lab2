{
 "cells": [
  {
   "cell_type": "markdown",
   "id": "5e353cd8",
   "metadata": {},
   "source": [
    "## Science Data Analysis (Science frame correction)"
   ]
  },
  {
   "cell_type": "code",
   "execution_count": 2,
   "id": "4e90f174",
   "metadata": {},
   "outputs": [],
   "source": [
    "import numpy as np\n",
    "import matplotlib.pyplot as plt\n",
    "%matplotlib widget\n",
    "from astropy.io import fits \n",
    "import pickle "
   ]
  },
  {
   "cell_type": "code",
   "execution_count": 3,
   "id": "a4d30e16",
   "metadata": {},
   "outputs": [
    {
     "name": "stdout",
     "output_type": "stream",
     "text": [
      "Figure 14.png                    correctAF87320err.p\n",
      "Untitled.ipynb                   correctAF87321.p\n",
      "aperture_photometry.ipynb        correctAF87321err.p\n",
      "aperturephotometry_class.ipynb   correctAF87322.p\n",
      "\u001b[1m\u001b[36mbias\u001b[m\u001b[m/                            correctAF87322err.p\n",
      "bias.ipynb                       correctAF87323.p\n",
      "bias_stack.p                     correctAF87323err.p\n",
      "centroid_measurement.ipynb       differential_photometry.ipynb\n",
      "classing.py                      \u001b[1m\u001b[36mflat\u001b[m\u001b[m/\n",
      "\u001b[1m\u001b[36mcorrect\u001b[m\u001b[m/                         flat.ipynb\n",
      "correctAF87314.p                 flat_normalization_factors.p\n",
      "correctAF87314err.p              flat_normalized_stack.p\n",
      "correctAF87315.p                 flat_stack.p\n",
      "correctAF87315err.p              image.jpg\n",
      "correctAF87316.p                 median_bias.p\n",
      "correctAF87316err.p              median_bias_error.p\n",
      "correctAF87317.p                 median_bias_error_value.p\n",
      "correctAF87317err.p              median_normalized_flat.p\n",
      "correctAF87318.p                 median_normalized_flat_errors.p\n",
      "correctAF87318err.p              \u001b[1m\u001b[36mscience\u001b[m\u001b[m/\n",
      "correctAF87319.p                 science_analysis.ipynb\n",
      "correctAF87319err.p              science_analysis_test.ipynb\n",
      "correctAF87320.p\n"
     ]
    }
   ],
   "source": [
    "ls"
   ]
  },
  {
   "cell_type": "code",
   "execution_count": 4,
   "id": "2f6501b0",
   "metadata": {},
   "outputs": [],
   "source": [
    "science_list=np.genfromtxt(\"./science/science.list\", dtype='str')"
   ]
  },
  {
   "cell_type": "code",
   "execution_count": 5,
   "id": "74b3331a",
   "metadata": {},
   "outputs": [
    {
     "name": "stdout",
     "output_type": "stream",
     "text": [
      "1233\n"
     ]
    }
   ],
   "source": [
    "print(len(science_list))"
   ]
  },
  {
   "cell_type": "markdown",
   "id": "1d686750",
   "metadata": {},
   "source": [
    "This is too many images for the computer, so we must do correction 'On the Fly', we save only the final outcome, and no intermediate data products. This is done on missions like PLATO (aperture photometry done on the satellite, only final data products are sent down. Happens with SMAP too!\n",
    "\n",
    "We must check that we are doing things correctly on a small subsample (10-20 images)  then you do it for the hundreds or thousands of images. "
   ]
  },
  {
   "cell_type": "code",
   "execution_count": 6,
   "id": "09979070",
   "metadata": {},
   "outputs": [],
   "source": [
    "# обычно содержат сохранённые Python-объекты\n",
    "\n",
    "median_bias=pickle.load(open('median_bias.p','rb')) \n",
    "# Загружает объект из файла median_bias.p\n",
    "#rb означает \"read binary\" — файл открывается для чтения в двоичном режиме\n",
    "# данные о медианном смещении\n",
    "\n",
    "median_bias_error=pickle.load(open('median_bias_error.p','rb'))\n",
    "# данные об ошибке, связанной с медианным смещением\n",
    "\n",
    "median_normalized_flat=pickle.load(open('median_normalized_flat.p','rb'))\n",
    "# данные о нормализованном медианном плоском поле\n",
    "\n",
    "median_normalized_flat_errors=pickle.load(open('median_normalized_flat_errors.p','rb'))\n",
    "#данные об ошибке нормализованного плоского поля\n",
    "\n",
    "\n",
    "bias_std = 1.31 # [e] photoelectrons: Median STD of each pixel\n",
    "readout_noise = 7.38  # [e] photoelectrons: STD single frame\n",
    "gain = 2.73 # [e/ADU] : as extracted from the header of a bias frame\n"
   ]
  },
  {
   "cell_type": "code",
   "execution_count": 7,
   "id": "98cdab94",
   "metadata": {},
   "outputs": [
    {
     "data": {
      "text/plain": [
       "10"
      ]
     },
     "execution_count": 7,
     "metadata": {},
     "output_type": "execute_result"
    }
   ],
   "source": [
    "science_test_list=science_list[:10]\n",
    "len(science_test_list)"
   ]
  },
  {
   "cell_type": "markdown",
   "id": "df4dd560",
   "metadata": {},
   "source": [
    "### Data reduction steps\n",
    "Science **data reduction** includes these steps:\n",
    "\n",
    "(the process of transforming raw scientific data into a form suitable for analysis)\n",
    "\n",
    "1. multiplication by gain\n",
    "2. bias subtraction\n",
    "3. division by flat\n",
    "\n",
    "These components contribute to the **error** budget:\n",
    "\n",
    "1. readout noise\n",
    "2. error associated with the bias\n",
    "3. error associated with the flat\n",
    "4. photon noise"
   ]
  },
  {
   "cell_type": "markdown",
   "id": "90e2c8d8",
   "metadata": {},
   "source": [
    "For the photon noise, we can rely on Poissonian distribution as done with the flat\n",
    "\n",
    "Remember that the photon noise must be computed after removing the bias but before correcting for the flat field, as the error must be calculated on the actual number of photons received on the detector, not on the photons emitted by the source\n",
    "\n",
    "Помните, что photon noise необходимо вычислять после устранения the bias, но до внесения поправки на плоское поле, поскольку ошибка должна рассчитываться на основе фактического числа фотонов, полученных детектором, а не на основе фотонов, испущенных источником\n",
    "\n",
    "сначала removing the bias\n",
    "затем photon noise вычислять \n",
    "correcting for the flat field"
   ]
  },
  {
   "cell_type": "code",
   "execution_count": 8,
   "id": "539f17b0",
   "metadata": {},
   "outputs": [
    {
     "name": "stderr",
     "output_type": "stream",
     "text": [
      "/var/folders/3w/7g5zt5xj0jn5c1q54g2z15wc0000gq/T/ipykernel_19431/2248340569.py:18: RuntimeWarning: divide by zero encountered in divide\n",
      "  science_corrected = science_debiased / median_normalized_flat  # Se\n",
      "/var/folders/3w/7g5zt5xj0jn5c1q54g2z15wc0000gq/T/ipykernel_19431/2248340569.py:18: RuntimeWarning: invalid value encountered in divide\n",
      "  science_corrected = science_debiased / median_normalized_flat  # Se\n",
      "/var/folders/3w/7g5zt5xj0jn5c1q54g2z15wc0000gq/T/ipykernel_19431/2248340569.py:29: RuntimeWarning: divide by zero encountered in divide\n",
      "  science_corrected_error = science_corrected * np.sqrt((science_debiased_error/science_debiased)**2\n",
      "/var/folders/3w/7g5zt5xj0jn5c1q54g2z15wc0000gq/T/ipykernel_19431/2248340569.py:30: RuntimeWarning: divide by zero encountered in divide\n",
      "  + (median_normalized_flat_errors/median_normalized_flat)**2)\n",
      "/var/folders/3w/7g5zt5xj0jn5c1q54g2z15wc0000gq/T/ipykernel_19431/2248340569.py:29: RuntimeWarning: invalid value encountered in multiply\n",
      "  science_corrected_error = science_corrected * np.sqrt((science_debiased_error/science_debiased)**2\n"
     ]
    },
    {
     "data": {
      "text/plain": [
       "\"\\nfor science_name in science_test_list:\\n    science_fits = fits.open('./group00_GJ3470_20220328/science/' + science_name)\\n    science_data = science_fits[0].data * gain # save the data from the first HDU \\n    science_fits.close()\\n    \\n    science_debiased = science_data - median_bias\\n    science_corrected = science_debiased / median_normalized_flat\\n\\n    ## Error associated to the science corrected frame\\n    science_debiased_errors = np.sqrt(readout_noise**2 + bias_std**2 + science_debiased)\\n    science_corrected_errors = science_corrected * np.sqrt((science_debiased_errors/science_debiased)**2 + (median_normalized_flat_errors/median_normalized_flat)**2)\\n\\n    new_name = './group00_GJ3470_20220328/correct/' + science_name[:-5] + '_corr.p'\\n    pickle.dump(science_corrected, open(new_name, 'wb'))\\n    new_name = './group00_GJ3470_20220328/correct/' + science_name[:-5] + '_corr_errors.p'\\n    pickle.dump(science_corrected_errors, open(new_name, 'wb'))\\n\\n\""
      ]
     },
     "execution_count": 8,
     "metadata": {},
     "output_type": "execute_result"
    }
   ],
   "source": [
    "dir_name = 'correct'\n",
    "\n",
    "for science_name in science_test_list:\n",
    "    science_fits = fits.open('science/' + science_name)\n",
    "    science_data = science_fits[0].data * science_fits[0].header['GAIN']\n",
    "    science_fits.close()\n",
    "    \n",
    "    science_debiased = science_data - median_bias  # the flux\n",
    "    # Цель: Удалить электронное смещение, связанное с оборудованием, \n",
    "    # из каждого пикселя изображения. Поскольку электронное смещение одинаково \n",
    "    # для всех пикселей, его можно считать систематической ошибкой, которую необходимо вычесть\n",
    "    # Bias field — это кадр, снятый с нулевой экспозицией (при закрытом затворе камеры) \n",
    "    # и представляющий электрическое смещение, которое присутствует в каждом пикселе детектора в отсутствие света\n",
    "    \n",
    "    # Результат: После этой операции научные данные (поток) становятся более чистыми, \n",
    "    # без смещений нуля, вызванных неизвестными факторами электроники\n",
    "    \n",
    "    science_corrected = science_debiased / median_normalized_flat  # Se\n",
    "    # Цель: Исправить неоднородности в чувствительности пикселей и оптические артефакты, \n",
    "    # такие как вариации освещенности от объектива (e.g., виньетирование)\n",
    "    \n",
    "    # Результат : После этой корректировки изображение нормализуется до уровня, \n",
    "    # где все пиксели имеют одинаковую относительную эффективность. Это делает \n",
    "    # научные данные более точными для последующего анализа, особенно когда ищут \n",
    "    # слабые или тонкие астрономические сигналы\n",
    "    \n",
    "    ## Error associated to the science corrected frame\n",
    "    science_debiased_error = np.sqrt(science_fits[0].header['RDNOISE']**2 + science_debiased + median_bias_error**2)\n",
    "    science_corrected_error = science_corrected * np.sqrt((science_debiased_error/science_debiased)**2\n",
    "                                                          + (median_normalized_flat_errors/median_normalized_flat)**2)\n",
    "    # Ensure to close the sqrt parenthesis above this line\n",
    "    \n",
    "    pickle.dump(science_corrected, open(dir_name + science_name[:-5] + '.p', 'wb'))\n",
    "    pickle.dump(science_corrected_error, open(dir_name + science_name[:-5] + 'err.p', 'wb'))\n",
    "\n",
    "\"\"\"\n",
    "for science_name in science_test_list:\n",
    "    science_fits = fits.open('./group00_GJ3470_20220328/science/' + science_name)\n",
    "    science_data = science_fits[0].data * gain # save the data from the first HDU \n",
    "    science_fits.close()\n",
    "    \n",
    "    science_debiased = science_data - median_bias\n",
    "    science_corrected = science_debiased / median_normalized_flat\n",
    "\n",
    "    ## Error associated to the science corrected frame\n",
    "    science_debiased_errors = np.sqrt(readout_noise**2 + bias_std**2 + science_debiased)\n",
    "    science_corrected_errors = science_corrected * np.sqrt((science_debiased_errors/science_debiased)**2 + (median_normalized_flat_errors/median_normalized_flat)**2)\n",
    "\n",
    "    new_name = './group00_GJ3470_20220328/correct/' + science_name[:-5] + '_corr.p'\n",
    "    pickle.dump(science_corrected, open(new_name, 'wb'))\n",
    "    new_name = './group00_GJ3470_20220328/correct/' + science_name[:-5] + '_corr_errors.p'\n",
    "    pickle.dump(science_corrected_errors, open(new_name, 'wb'))\n",
    "\n",
    "\"\"\""
   ]
  },
  {
   "cell_type": "markdown",
   "id": "06e59a60",
   "metadata": {},
   "source": [
    "В данном коде:\n",
    "\n",
    "1. **`science_debiased_error`**:\n",
    "   - Это величина, оценивающая ошибку, связанную с \"debiased\" научными данными (то есть данными, из которых было вычтено median_biased). \n",
    "   - Она вычисляется с учетом нескольких компонентов шума:\n",
    "     - **Чтение шума (Readout Noise)**: `science_fits[0].header['RDNOISE']`, представляющий характеристики шума, возникающего при считывании данных с детектора.\n",
    "     - **Научные данные**: `science_debiased`, чтобы отразить влияние данных на ошибку.\n",
    "     - **Ошибка медианного смещения**: `median_bias_error`, чтобы учесть неопределенности, связанные с измерением и применением медианного смещения. \n",
    "   - Полная формула: \n",
    "   $$\n",
    "   \\sqrt{\\text{RDNOISE}^2 + \\text{science\\_debiased} + \\text{median\\_bias\\_error}^2}\n",
    "   $$\n",
    "\n",
    "2. **`science_corrected_error`**:\n",
    "   - Это оценка ошибки для скорректированного научного кадра, который был нормализован с использованием плоских полей\n",
    "   - Ошибка вычисляется с учетом нормализованных данных и коррекции смещения:\n",
    "     - **Ошибки debiased данных**: \n",
    "     $$\n",
    "     \\left(\\frac{\\text{science\\_debiased\\_error}}{\\text{science\\_debiased}}\\right)^2\n",
    "     $$\n",
    "     - **Ошибки нормализованного плоского поля**: \n",
    "     $$\n",
    "     \\left(\\frac{\\text{median\\_normalized\\_flat\\_errors}}{\\text{median\\_normalized\\_flat}}\\right)^2\n",
    "     $$\n",
    "   - Полная формула: \n",
    "   $$\n",
    "   \\text{science\\_corrected} \\times \\sqrt{\\left(\\frac{\\text{science\\_debiased\\_error}}{\\text{science\\_debiased}}\\right)^2 + \\left(\\frac{\\text{median\\_normalized\\_flat\\_errors}}{\\text{median\\_normalized\\_flat}}\\right)^2}\n",
    "   $$\n",
    "\n",
    "Эти вычисления помогают понять и уточнить погрешности в процессе обработки научных изображений, обеспечивая более надежные результаты."
   ]
  },
  {
   "cell_type": "markdown",
   "id": "ef1f56ab",
   "metadata": {},
   "source": [
    "#### Extracting and saving useful information\n",
    "\n",
    "For our analysis, we need to know when the data has been taken, not just how. In addition, we may need some extra information regarding the pointing of the telescope.\n",
    "\n",
    "* The epoch of the exposure, expressed in Julian date\n",
    "* The exposure time [the duration of our exposure]\n",
    "* The airmass of the telescope during the exposure\n",
    "\n",
    "We extract this information from the header of each fits file. Other info you may need, e.g., the filter used for the observations, do not change with time so you just need to extract them from a single frame."
   ]
  },
  {
   "cell_type": "code",
   "execution_count": 9,
   "id": "7958a642",
   "metadata": {},
   "outputs": [
    {
     "name": "stdout",
     "output_type": "stream",
     "text": [
      " JD at start\n",
      " [s] Exposure time\n",
      " Telescope airmass at start\n",
      "[2455630.447558 2455630.4477   2455630.447837 2455630.447974\n",
      " 2455630.448111 2455630.448253 2455630.44839  2455630.448526\n",
      " 2455630.448669 2455630.448811]\n",
      "[1.216 1.216 1.215 1.215 1.214 1.214 1.213 1.213 1.212 1.212]\n",
      "[10. 10. 10. 10. 10. 10. 10. 10. 10. 10.]\n"
     ]
    },
    {
     "data": {
      "text/plain": [
       "SIMPLE  =                    T / file does conform to FITS standard             \n",
       "BITPIX  =                   16 / number of bits per data pixel                  \n",
       "NAXIS   =                    2 / number of data axes                            \n",
       "NAXIS1  =                  534 / length of data axis 1                          \n",
       "NAXIS2  =                  180 / length of data axis 2                          \n",
       "EXTEND  =                    T / FITS dataset may contain extensions            \n",
       "COMMENT   FITS (Flexible Image Transport System) format is defined in 'Astronomy\n",
       "COMMENT   and Astrophysics', volume 376, page 359; bibcode: 2001A&A...376..359H \n",
       "BZERO   =                32768 / offset data range to that of unsigned short    \n",
       "BSCALE  =                    1 / default scaling factor                         \n",
       "DATE    = '2011-03-09T22:46:28' / file creation date (YYYY-MM-DDThh:mm:ss UT)   \n",
       "UTSTART = '2011-03-09T22:46:17.2' / UT date at start of exposure                \n",
       "DATE-OBS= '09/03/11'           / UT date at start of exposure                   \n",
       "EXPSTART= '22:46:17.2'         / UT time at start of exposure                   \n",
       "JD      =       2455630.448811 / JD at start                                    \n",
       "MJD     =         55629.948811 / MJD at start                                   \n",
       "EXPTIME =                10.00 / [s] Exposure time                              \n",
       "CCD-TEMP=                -58.8 / CCD temperature (Celsius) at start of exposure \n",
       "SET-TEMP=                -60.0 / CCD setpoint temperature (Celsius)             \n",
       "IMAGETYP= 'Object  '                                                            \n",
       "OBJECT  = 'hat-p-12'                                                            \n",
       "OBSERVER= 'Borsato Nascimbeni'                                                  \n",
       "FILTER  = 'R       '           / Filter Wheel position 3                        \n",
       "GRAT_TYP= 'NONE    '           / Grism Wheel position 1                         \n",
       "SLIT    = 'NONE    '           / Aperture Wheel position 1                      \n",
       "LAMP    = 'NO      '                                                            \n",
       "CAMERA  =                74777 / Actual Camera focus position                   \n",
       "FOCUSOFF=                  921 / Filter focus offset                            \n",
       "ROTANGLE=                 70.0 / [deg] Telescope flange rotation angle          \n",
       "LTM1_1  =                0.250                                                  \n",
       "LTM2_2  =                0.250                                                  \n",
       "LTV1    =                   -1                                                  \n",
       "LTV2    =                 -514                                                  \n",
       "APPOS   =                    0 / Aperture wheel position                        \n",
       "FLPOS   =                80000 / Filter wheel position                          \n",
       "GRPOS   =                    0 / Grism wheel position                           \n",
       "ORIGIN  = 'Asiago Astronomical Observatory'                                     \n",
       "TELESCOP= '1.82m Reflector'                                                     \n",
       "INSTRUME= 'AFOSC + Andor iKon DW436-BV'                                         \n",
       "DETECTOR= 'E2V CCD42-40'                                                        \n",
       "BINX    =                    4 / Horizontal Binning factor used                 \n",
       "BINY    =                    4 / Vertical Binning factor used                   \n",
       "GAIN    =                 2.73 / [e/ADU] CCD Camera gain                        \n",
       "RDNOISE =                 7.60 / [e] CCD Camera readout noise                   \n",
       "CCDSCALE=                 0.26 / [arcsec/px] unbinned CCD camera scale          \n",
       "SITELAT =             45.84848 / [deg] Telescope latitude, N45:50:54.52         \n",
       "SITELONG=             11.56900 / [deg] Telescope longitude, E11:34:08.42        \n",
       "HEIGHT  =               1366.0 / [m] Telescope height above sea level           \n",
       "HSSPEED =                    1 / 500 KHz CCD sensor horizontal shift speed      \n",
       "EQUINOX =                2000.                                                  \n",
       "SID-TIME= '10:41:39'           / Local sideral time at start                    \n",
       "HA      = '-03:16:15'          / Telescope HA at start                          \n",
       "RA      = '13:57:24.99'        / Telescope RA (J2000.0)                         \n",
       "DEC     = '+43:31:14'          / Telescope DEC (J2000.0)                        \n",
       "ALTITUDE=             55.56979 / Telescope altitude at start                    \n",
       "AZIMUTH =            255.88385 / Telescope azimuth at start                     \n",
       "AIRMASS =                1.212 / Telescope airmass at start                     \n",
       "PARANGLE=              -68.540 / Telescope parallactic angle at start           \n",
       "OBJCTNAM= 'hat-p-12'           / Object name from Telescope Control             \n",
       "OBJCTRA = '13:57:33'           / Object RA (J2000.0)                            \n",
       "OBJCTDEC= '+43:29:36'          / Object DEC (J2000.0)                           \n",
       "M2-X    =                9.500 / [mm] M2 X position                             \n",
       "M2-Y    =                6.500 / [mm] M2 Y position                             \n",
       "M2-Z    =                7.450 / [mm] M2 Z (focus) position                     \n",
       "M2-ALPHA=                0.000 / [arcsec] M2 Alpha tilt                         \n",
       "M2-BETA =                0.000 / [arcsec] M2 Beta tilt                          "
      ]
     },
     "execution_count": 9,
     "metadata": {},
     "output_type": "execute_result"
    }
   ],
   "source": [
    "n_images = len(science_test_list)\n",
    "\n",
    "array_jd = np.zeros(n_images)\n",
    "array_exptime = np.zeros(n_images)\n",
    "array_airmass = np.zeros(n_images)\n",
    "\n",
    "for i_science, science_name in enumerate(science_test_list):\n",
    "    science_fits = fits.open('science/' + science_name)\n",
    "    array_jd[i_science] = science_fits[0].header['JD']\n",
    "    array_airmass[i_science] = science_fits[0].header['AIRMASS']\n",
    "    array_exptime[i_science] = science_fits[0].header['EXPTIME']\n",
    "    \n",
    "    ## Let's print the comment for the first image\n",
    "    if i_science==0:\n",
    "        print('',science_fits[0].header.comments['JD'])\n",
    "        print('',science_fits[0].header.comments['EXPTIME'])\n",
    "        print('',science_fits[0].header.comments['AIRMASS'])\n",
    "    \n",
    "    science_fits.close()\n",
    "\n",
    "print(array_jd)\n",
    "print(array_airmass)\n",
    "print(array_exptime)\n",
    "\n",
    "science_fits[0].header\n"
   ]
  },
  {
   "cell_type": "markdown",
   "id": "6b8b624f",
   "metadata": {},
   "source": [
    "#### Conversion to BJD_TDB\n",
    "\n",
    "\n",
    "**JD (Julian Date):**\n",
    "* Представляет собой непрерывное счисление дней, начиная с базовой даты 1 января 4713 года до н.э. \n",
    "\n",
    "* JD фиксирует момент времени, когда событие записывается в обсерватории, и варьируется в зависимости от положения наблюдателя на Земле\n",
    "\n",
    "**BJD (Barycentric Julian Date):**\n",
    "* Эта версия Юлианской даты скорректирована так, чтобы момент события фиксировался с точки зрения центра масс Солнечной системы (барицентр)\n",
    "\n",
    "* BJD используется для устранения влияния местоположения обсерватории, обеспечивая более точную временную метку для наблюдений астрономических объектов\n",
    "\n",
    "\n",
    "**Независимость от временного стандарта :** \n",
    "\n",
    "JD и BJD являются методами отсчёта времени, не зависящими от того, какая система времени используется (например, UTC, UT1, TAI). Они оба выражают время в форме Юлианской даты независимо от используемой шкалы\n",
    "\n",
    "\n",
    "**Измерение времени :** \n",
    "\n",
    "Оба метода ориентированы на момент фиксирования астрономических событий, а не на стандарт времени. Это абстрактные единицы, сфокусированные на астрономических потребностях, таких как точность позиционирования объектов относительно Земли или центра Солнечной системы"
   ]
  },
  {
   "cell_type": "markdown",
   "id": "0cdb6245",
   "metadata": {},
   "source": [
    "The correction is done through several steps:\n",
    "\n",
    "1. We want each time stamp to be associated with the **centre of the exposure**, not the initial moment. We have to shift all the time stamps by half the exposure time\n",
    "\n",
    "Когда мы делаем фото звёзд, свет падает на камеру некоторое время. Мы хотим знать точное время, когда свет попадал на камеру в середине этого времени, а не в начале. Поэтому мы сдвигаем время на полпути от начала до конца измерения.\n",
    "\n",
    "2. We have to shift from Coordinated Universal Time (UTC) (a discontinuous scale due to the introduction of leap seconds) to the Barycentric Dynamical Time (TDB), a relativistic coordinate time scale defined on the barycenter of the Solar System.\n",
    "\n",
    "У нас есть время, как показывают часы на Земле (UTC). Но нам нужно время, которое было бы единым для всей Солнечной системы (TDB), чтобы учитывать, как быстро двигается свет и что время может меняться, если считать его в другой точке космоса.\n",
    "\n",
    "3. We have to correct for the light travel time effect, i.e.,  the time required by the light to travel between Earth (specifically, our observatory) and the Solar System barycenter\n",
    "\n",
    "Свету нужно время, чтобы добраться от нашей Земли до центра Солнечной системы. Мы учитываем это время, чтобы точно знать, когда событие (например, вспышка звезды) произошло, не зависит от того, где находится наша обсерватория."
   ]
  },
  {
   "cell_type": "code",
   "execution_count": 10,
   "id": "7253e5ce",
   "metadata": {},
   "outputs": [],
   "source": [
    "from astropy import coordinates as coord, units as u\n",
    "# Astropy используется для работы с координатами и временем.\n",
    "\n",
    "target = coord.SkyCoord(\"20:13:31.61\",\"+65:09:43.49\", unit=(u.hourangle, u.deg), frame='icrs')\n",
    "# coord.SkyCoord задает небесные координаты объекта с использованием экваториальной системы (ICRS)\n",
    "# Объект на небе имеет координаты \n",
    "# 20:13:31.61 по прямому восхождению \"right ascension\" (RA) \n",
    "# и +65:09:43.49 по склонению \"declination\" (Dec)\n",
    "# target представляет собой целевую точку на небесной сфере, заданную с помощью экваториальных координат"
   ]
  },
  {
   "cell_type": "code",
   "execution_count": 11,
   "id": "c4bbce9f",
   "metadata": {},
   "outputs": [
    {
     "data": {
      "application/vnd.jupyter.widget-view+json": {
       "model_id": "7a9334fa655d411a8211b0a34749e577",
       "version_major": 2,
       "version_minor": 0
      },
      "image/png": "[encoded data removed]",
      "text/html": [
       "\n",
       "            <div style=\"display: inline-block;\">\n",
       "                <div class=\"jupyter-widgets widget-label\" style=\"text-align: center;\">\n",
       "                    Figure\n",
       "                </div>\n",
       "                <img src='data:image/png;base64,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' width=600.0/>\n",
       "            </div>\n",
       "        "
      ],
      "text/plain": [
       "Canvas(toolbar=Toolbar(toolitems=[('Home', 'Reset original view', 'home', 'home'), ('Back', 'Back to previous …"
      ]
     },
     "metadata": {},
     "output_type": "display_data"
    }
   ],
   "source": [
    "## install jplephem\n",
    "\n",
    "from astropy.time import Time\n",
    "# https://docs.astropy.org/en/stable/time/\n",
    "\n",
    "\n",
    "# let's compute the light travel time for one year of observations \n",
    "jd_plot = np.arange(2460000, 2460365.25, 0.10) \n",
    "# Массив jd_plot представляет собой диапазон дат в формате Юлианских дат \n",
    "# (JD) на один год с шагом 0.10 дней\n",
    "\n",
    "tm_plot = Time(jd_plot, format='jd', scale='utc', location=('45.8472d', '11.569d')) \n",
    "# Time - объект tm_plot создается с использованием JD и указанием местоположения \n",
    "# обсерватории через геодезические координаты\n",
    "\n",
    "\n",
    "ltt_plot = tm_plot.light_travel_time(target, ephemeris='jpl')  \n",
    "# вычисляет время, которое требуется свету чтобы придти от цели \n",
    "# к центру Солнечной системы с учетом эфемерид JPL\n",
    "# (Jet Propulsion Laboratory, JPL)\n",
    "\n",
    "\n",
    "bjd_tdb_plot = tm_plot.tdb + ltt_plot\n",
    "# Convert to BJD_TDB, and then add the light travel time\n",
    "# пределяет барицентрическое юлианское время (BJD_TDB) с учетом светового времени \n",
    "# ltt_plot : Рассчитывает, сколько времени потребуется свету, чтобы достичь \n",
    "# барицентра Солнечной системы от земли, учитывая эфемериды JPL\n",
    "\n",
    "plt.figure(figsize=(6,4))\n",
    "plt.plot(jd_plot, ltt_plot.to_value(u.min))\n",
    "# Конструкция ltt_plot.to_value(u.min) преобразует значения времени распространения света, \n",
    "# содержащиеся в ltt_plot, в минуты. Вот пояснение:\n",
    "# ltt_plot : Это объект, представляющий собой время, необходимое свету для путешествия \n",
    "# от наблюдаемого объекта к центру Солнечной системы. \n",
    "# Оно вычисляется с использованием эфемерид JPL\n",
    "# to_value(u.min) : Этот метод преобразует величину времени, содержащуюся в ltt_plot, \n",
    "# в конкретные единицы — в данном случае, в минуты (u.min). Это делается для удобства чтения \n",
    "# и интерпретации данных на графике\n",
    "\n",
    "plt.xlabel('JD [d]')\n",
    "plt.ylabel('Light travel time [m]')\n",
    "plt.show()"
   ]
  },
  {
   "cell_type": "markdown",
   "id": "1480ee99",
   "metadata": {},
   "source": [
    "#### Information regarding the Light Travel Time calculation\n",
    "\n",
    "\n",
    "`light_travel_time(skycoord, kind='barycentric', location=None, ephemeris=None)`\n",
    "\n",
    "[link on astropy](https://docs.astropy.org/en/stable/api/astropy.time.Time.html#astropy.time.Time.light_travel_time)\n",
    "\n",
    "Light travel time correction to the barycentre or heliocentre:\n",
    "\n",
    "1. **Solar System Barycentre (SSB) :** Это центр масс всей Солнечной системы, учитывающий массу всех объектов, включая Солнце, планеты и другие тела\n",
    "2. **Heliocentre :** Это точка в центре Солнца\n",
    "Таким образом, барицентр Солнечной системы смещён относительно центра Солнца из-за гравитационного влияния планет\n",
    "\n",
    "The frame transformations (математические преобразования, используемые для перевода координат небесных объектов из одной системы координат в другую) used to calculate the location of the solar system barycentre and the heliocentre rely on **the erfa routine epv00**\n",
    "\n",
    "**\"erfa routine epv00\"** — это функция в библиотеке ERFA (Essential Routines for Fundamental Astronomy), обеспечивающая расчеты для определения положений и скоростей Земли и Солнца. Она основана на моделях и стандартов Международного астрономического союза (IAU). Эта рутина согласуется с эфемеридами JPL DE405, обеспечивая точные расчеты с погрешностью до 11.2 км\n",
    "\n",
    "The routine assumes the source(s) are at large distance, i.e., neglects finite-distance effects\n",
    "\n",
    "`Returns: time_offset TimeDelta`\n",
    "The time offset between the barycentre or Heliocentre and Earth, in TDB seconds. \n",
    "Should be added to the original time to get the time in the Solar system barycentre or the Heliocentre\n",
    "Also, the time conversion to BJD will then include the relativistic correction as well"
   ]
  },
  {
   "cell_type": "markdown",
   "id": "5576abe5",
   "metadata": {},
   "source": [
    "Below, we compute the JD_UTC at mid exposure before converting to BJD_TDB"
   ]
  },
  {
   "cell_type": "code",
   "execution_count": 12,
   "id": "5b53b020",
   "metadata": {},
   "outputs": [
    {
     "name": "stdout",
     "output_type": "stream",
     "text": [
      "Average Light travel time:                            -1.82 minutes\n",
      "Average difference between JD_UTC and BJD_TDB:        42.88 seconds\n"
     ]
    }
   ],
   "source": [
    "jd = array_jd + array_exptime/86400./2. \n",
    "# Здесь array_jd — это массив значений Julian Date, представляющий время начала наблюдений \n",
    "# the start time of observations\n",
    "# array_exptime — это массив времени экспозиции в секундах  \n",
    "# is an array of exposure times  \n",
    "# Делением на 86400 переводим \n",
    "# секунды в дни, и добавлением половины этого времени смещаем метку на середину экспозиции\n",
    "\n",
    "# Прибавляя половину времени экспозиции к времени начала наблюдений, \n",
    "# мы определяем среднее время, в которое свет фактически регистрировался детектором. \n",
    "# Это важно потому, что условия наблюдения, такие как движение Земли, \n",
    "# могут менять положение объектов на небе в течение экспозиции. \n",
    "# Среднее время позволяет более точно понимать, \n",
    "# в какой момент времени свет от объекта достиг телескопа в среднем\n",
    "\n",
    "tm = Time(jd, format='jd', scale='utc', location=('45.8472d', '11.569d')) \n",
    "# В этой строке создаётся объект времени tm с использованием библиотеки Astropy\n",
    "# Параметры:\n",
    "#format='jd': Указывает, что входные данные в формате Julian Date\n",
    "#scale='utc': Указывает, что Julian Date основаны на шкале UTC\n",
    "#location=('45.8472d', '11.569d'): Координаты обсерватории Asiago - Cima Ekar, \n",
    "# используемые для вычислений\n",
    "\n",
    "# Asiago - Cima Ekar\n",
    "# 45° 50' 50'' N -> 45.8472\n",
    "# 11° 34' 08'' E -> 11.569\n",
    "\n",
    "ltt_bary = tm.light_travel_time(target)  \n",
    "# Light travel time correction to the barycentre or heliocentre \n",
    "# Эта строка вычисляет время, нужное свету, чтобы достичь от цели \n",
    "# в центре масс Солнечной системы до обсерватории \n",
    "# Это время называется \"временем светового пути\" и учитывает поправку на движение Земли\n",
    "\n",
    "\n",
    "bjd_tdb = tm.tdb + ltt_bary\n",
    "\n",
    "print('Average Light travel time:                     {0:12.2f} minutes'.format(np.average(ltt_bary.to_value(u.min))))\n",
    "print('Average difference between JD_UTC and BJD_TDB: {0:12.2f} seconds'.format(np.average(jd - bjd_tdb.to_value('jd'))*86400))"
   ]
  }
 ],
 "metadata": {
  "kernelspec": {
   "display_name": "astrolab2",
   "language": "python",
   "name": "python3"
  },
  "language_info": {
   "codemirror_mode": {
    "name": "ipython",
    "version": 3
   },
   "file_extension": ".py",
   "mimetype": "text/x-python",
   "name": "python",
   "nbconvert_exporter": "python",
   "pygments_lexer": "ipython3",
   "version": "3.9.19"
  }
 },
 "nbformat": 4,
 "nbformat_minor": 5
}
