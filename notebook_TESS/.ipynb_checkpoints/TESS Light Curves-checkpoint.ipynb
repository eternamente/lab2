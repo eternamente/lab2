{
 "cells": [
  {
   "cell_type": "code",
   "execution_count": 2,
   "id": "fb98e3f4",
   "metadata": {},
   "outputs": [],
   "source": [
    "import numpy as np\n",
    "from astropy.io import fits\n",
    "import matplotlib.pyplot as plt\n",
    "%matplotlib widget"
   ]
  },
  {
   "cell_type": "code",
   "execution_count": 3,
   "id": "02afef3f",
   "metadata": {},
   "outputs": [
    {
     "ename": "TypeError",
     "evalue": "fitsopen() missing 1 required positional argument: 'name'",
     "output_type": "error",
     "traceback": [
      "\u001b[0;31m---------------------------------------------------------------------------\u001b[0m",
      "\u001b[0;31mTypeError\u001b[0m                                 Traceback (most recent call last)",
      "Cell \u001b[0;32mIn[3], line 1\u001b[0m\n\u001b[0;32m----> 1\u001b[0m sector44_lp \u001b[38;5;241m=\u001b[39m \u001b[43mfits\u001b[49m\u001b[38;5;241;43m.\u001b[39;49m\u001b[43mopen\u001b[49m\u001b[43m(\u001b[49m\u001b[43m)\u001b[49m\n\u001b[1;32m      2\u001b[0m fits\u001b[38;5;241m.\u001b[39minfo(sector44_lcf)\n",
      "\u001b[0;31mTypeError\u001b[0m: fitsopen() missing 1 required positional argument: 'name'"
     ]
    }
   ],
   "source": [
    "\n",
    "sector44_lp = fits.open()\n",
    "fits.info(sector44_lcf)"
   ]
  },
  {
   "cell_type": "code",
   "execution_count": 4,
   "id": "91111709",
   "metadata": {},
   "outputs": [
    {
     "ename": "NameError",
     "evalue": "name 'sector44_lcf' is not defined",
     "output_type": "error",
     "traceback": [
      "\u001b[0;31m---------------------------------------------------------------------------\u001b[0m",
      "\u001b[0;31mNameError\u001b[0m                                 Traceback (most recent call last)",
      "Cell \u001b[0;32mIn[4], line 1\u001b[0m\n\u001b[0;32m----> 1\u001b[0m lchdu \u001b[38;5;241m=\u001b[39m fits\u001b[38;5;241m.\u001b[39mopen(\u001b[43msector44_lcf\u001b[49m)\n\u001b[1;32m      2\u001b[0m lchdu[\u001b[38;5;241m1\u001b[39m]\u001b[38;5;241m.\u001b[39mcolumns\n",
      "\u001b[0;31mNameError\u001b[0m: name 'sector44_lcf' is not defined"
     ]
    }
   ],
   "source": [
    "lchdu = fits.open(sector44_lcf)\n",
    "lchdu[1].columns"
   ]
  },
  {
   "cell_type": "code",
   "execution_count": null,
   "id": "1f4dedf4",
   "metadata": {},
   "outputs": [],
   "source": [
    "bjd_tdb = lchdu[1].data['TIME'] + lchdu[1].header['BJDREFI'] +  lchdu[1].header['BJDREFF']\n",
    "sap_flux = lchdu[1].data['SAP_FLUX']\n",
    "sap_flux_error = lchdu[1].data['SAP_FLUX_ERR']\n",
    "pdcsap_flux = lchdu[1].data['PDCSAP_FLUX']\n",
    "pdcsap_flux_error = lchdu[1].data['PDCSAP_FLUX_ERR']\n",
    "quality_bitmask = lchdu[1].data['QUALITY']"
   ]
  },
  {
   "cell_type": "code",
   "execution_count": null,
   "id": "afd8de89",
   "metadata": {},
   "outputs": [],
   "source": [
    "print('BJDREFI header value:  {1:d}, comment: {0:s}'.format(lchdu[1].header.comments['BJDREFI'], lchdu[1].header['BJDREFI']))\n",
    "print('BJDREFF header value: {1:f}, comment: {0:s}'.format(lchdu[1].header.comments['BJDREFF'], lchdu[1].header['BJDREFF']))"
   ]
  },
  {
   "cell_type": "code",
   "execution_count": null,
   "id": "065b187c",
   "metadata": {},
   "outputs": [],
   "source": [
    "plt.figure(figsize=(6,4))\n",
    "plt.scatter(time_array, sap_flux, s=5, label='SAP')\n",
    "plt.scatter(time_array, pdcsap_flux, s=5, label='PDCSAP')\n",
    "plt.xlabel('BJD_TDB [d]')\n",
    "plt.ylabel('e-/s')\n",
    "plt.legend()\n",
    "plt.show()"
   ]
  },
  {
   "cell_type": "code",
   "execution_count": null,
   "id": "ec1bbd1a",
   "metadata": {},
   "outputs": [],
   "source": [
    "# Apparently, the number of points in the PDCSAP is smaller than in the SAP.\n",
    "# However, if we look at the shape of the two flux arrays, we can see that \n",
    "# the number of points is the same. This latter fact makes sense as both\n",
    "# arrays are plotted against the same array of epochs time_array.\n",
    "\n",
    "# What is the solution to this apparent inconsistency? \n",
    "# If we print the elements of the pdcsap_flux array that do not seem to \n",
    "# have only the SAP counterpart in the plot, we can see that these values \n",
    "# are all nan, which stands for not a number. A not a number (nan or NaN) \n",
    "# is a particular value of a numeric data type that is undefined or \n",
    "# unrepresentable, such as the result of zero divided by zero. Depending \n",
    "# on the case, you may also get inf, which stands for infinite. By default,\n",
    "# matplotlib will not display these values, although they are still in your array."
   ]
  },
  {
   "cell_type": "code",
   "execution_count": null,
   "id": "3f9e399f",
   "metadata": {},
   "outputs": [],
   "source": [
    "plt.figure(figsize=(6,4))\n",
    "plt.scatter(time_array, sap_flux/np.nanmedian(sap_flux), s=5, label='SAP')\n",
    "plt.scatter(time_array, pdcsap_flux/np.nanmedian(pdcsap_flux), s=5, label='PDCSAP')\n",
    "plt.xlabel('BJD_TDB [d]')\n",
    "plt.ylabel('e-/s')\n",
    "plt.legend()\n",
    "plt.show()"
   ]
  },
  {
   "cell_type": "code",
   "execution_count": null,
   "id": "9dd03563",
   "metadata": {},
   "outputs": [],
   "source": [
    "print('Number of BJD epochs   :', np.shape(time_array))\n",
    "print('Number of SAP epochs   :', np.shape(sap_flux))\n",
    "print('Number of PDCSAP epochs:', np.shape(pdcsap_flux))"
   ]
  },
  {
   "cell_type": "markdown",
   "id": "4955e94c",
   "metadata": {},
   "source": [
    "we need to convert the numbers fom the binary"
   ]
  },
  {
   "cell_type": "code",
   "execution_count": null,
   "id": "6e6ea6ec",
   "metadata": {},
   "outputs": [],
   "source": [
    "finite_selection = np.isfinite(pdcsap_flux)\n",
    "np.sum(finite_selection)\n",
    "print(quality_bitmask)"
   ]
  },
  {
   "cell_type": "code",
   "execution_count": null,
   "id": "ed00a87d-81d4-4ea9-b744-9bc09d2dabb5",
   "metadata": {},
   "outputs": [],
   "source": [
    "conservative_selection = (quality_butmask == 0)\n",
    "conservative_selection =  ~(quality_bitmask > 0) & finite_selection\n"
   ]
  },
  {
   "cell_type": "code",
   "execution_count": 1,
   "id": "b10a5623-a788-48e4-b563-75d413df2e27",
   "metadata": {},
   "outputs": [
    {
     "ename": "NameError",
     "evalue": "name 'np' is not defined",
     "output_type": "error",
     "traceback": [
      "\u001b[0;31m---------------------------------------------------------------------------\u001b[0m",
      "\u001b[0;31mNameError\u001b[0m                                 Traceback (most recent call last)",
      "Cell \u001b[0;32mIn[1], line 1\u001b[0m\n\u001b[0;32m----> 1\u001b[0m flag_to_be_checked \u001b[38;5;241m=\u001b[39m \u001b[43mnp\u001b[49m\u001b[38;5;241m.\u001b[39marray([\u001b[38;5;241m1\u001b[39m,\u001b[38;5;241m2\u001b[39m,\u001b[38;5;241m3\u001b[39m,\u001b[38;5;241m4\u001b[39m,\u001b[38;5;241m5\u001b[39m,\u001b[38;5;241m6\u001b[39m,\u001b[38;5;241m8\u001b[39m,\u001b[38;5;241m10\u001b[39m,\u001b[38;5;241m13\u001b[39m,\u001b[38;5;241m15\u001b[39m])\n\u001b[1;32m      2\u001b[0m reference_bitmask_in_decimal_system \u001b[38;5;241m=\u001b[39m \u001b[38;5;241m0\u001b[39m\n\u001b[1;32m      3\u001b[0m \u001b[38;5;28;01mfor\u001b[39;00m v \u001b[38;5;129;01min\u001b[39;00m flag_to_be_checked: \n",
      "\u001b[0;31mNameError\u001b[0m: name 'np' is not defined"
     ]
    }
   ],
   "source": [
    "flag_to_be_checked = np.array([1,2,3,4,5,6,8,10,13,15])\n",
    "reference_bitmask_in_decimal_system = 0\n",
    "for v in flag_to_be_checked: \n",
    "    reference_bitmask_in_decimal_system +=2**(v-1)\n",
    "print(reference_bitmask_in_decimal_system)"
   ]
  },
  {
   "cell_type": "code",
   "execution_count": null,
   "id": "586a086f-9e19-4d24-bd5f-b018862a54dd",
   "metadata": {},
   "outputs": [],
   "source": [
    "index_example_observation = 3\n",
    "\n",
    "print('Value corresponding to the active flags {0:16d}'.format(reference_bitmask_in_decimal_system))\n",
    "print('example quality bitmask                 {0:16d}'.format(quality_bitmask[index_example_observation]))\n",
    "print()\n",
    "print('binary representation of the selected flags    {0:16d}'.format(int(np.binary_repr(reference_bitmask_in_decimal_system))))\n",
    "print('binary representation of the selected example  {0:16d}'.format(int(np.binary_repr(quality_bitmask[index_example_observation]))))\n",
    "print()\n",
    "\n",
    "print('Are we supposed to exclude this point?  {0:}'.format(np.bitwise_and(quality_bitmask[index_example_observation], reference_bitmask_in_decimal_system)> 0))\n",
    "\n"
   ]
  },
  {
   "cell_type": "code",
   "execution_count": null,
   "id": "4bff6870-71c1-4d67-ab2d-ba6ae355dadc",
   "metadata": {},
   "outputs": [],
   "source": [
    "np.bitwise_and(quality_bitmask[index_example_observation], reference_bitmask_in_decimal_system"
   ]
  },
  {
   "cell_type": "code",
   "execution_count": null,
   "id": "7233b954-238e-4607-a44b-11ff24dd8887",
   "metadata": {},
   "outputs": [],
   "source": [
    "selective_selection = (np.bitwise_and(quality_bitmask, reference_bitmask_in_decimal_system) == 0)\n",
    "print(np.sum(selective_selection))"
   ]
  },
  {
   "cell_type": "code",
   "execution_count": null,
   "id": "e27e3808-12b8-474d-8b48-6592c9fda3d0",
   "metadata": {},
   "outputs": [],
   "source": [
    "selective_selection = ~(np.bitwise_and(quality_bitmask, reference_bitmask_in_decimal_system) > 0) & finit_selection\n",
    "print(np.sum(selective_selection))"
   ]
  },
  {
   "cell_type": "code",
   "execution_count": null,
   "id": "e13daf4d-7ecf-443c-8c83-a6b5c9b3cacf",
   "metadata": {},
   "outputs": [],
   "source": [
    "\n",
    "plt.figure(figsize=(6,4))\n",
    "plt.scatter(time_array[conservative_selection], sap_flux[conservative_selection],\n",
    "            s=5, label='SAP - selected data')\n",
    "plt.scatter(time_array, pdcsap_flux, s=5, label='PDCSAP')\n",
    "plt.scatter(time_array[~conservative_selection], sap_flux[~conservative_selection],\n",
    "            s=5, c='r', label='SAP - excluded data')\n",
    "plt.errorbar(time_array[conservative_selection], sap_flux[conservative_selection],\n",
    "            yerr=sap_flux_error[conservative_selection], fmt=' ', alpha=0.5, \n",
    "            ecolor='k', zorder=-1)\n",
    "plt.xlabel('BJD_TDB [d]')\n",
    "plt.ylabel('e-/s')\n",
    "plt.title(\"TESS Lightcurve for GJ3470 - sector 44\", fontsize = 12)\n",
    "\n",
    "plt.legend()\n",
    "plt.show()"
   ]
  },
  {
   "cell_type": "code",
   "execution_count": null,
   "id": "9662be5e-7bbb-4781-9650-e1ff5dd1e4cf",
   "metadata": {},
   "outputs": [],
   "source": [
    "import pickle \n",
    "\n",
    "#bjd_tdb == time_array from moodle\n",
    "\n",
    "sector44_dictionary = {\n",
    "    'time': bjd_tdb[final_selection],\n",
    "    'sap_flux': sap_flux[final_selection],\n",
    "    'sap_flux_error': sap_flux_error[final_selection],\n",
    "    'pdcsap_flux': sap_flux[final_selection],\n",
    "    'pdcsap_flux_error': sap_flux_error[final_selection]\n",
    "}\n",
    "\n",
    "pickle.dump(sector44_dictionary, \n",
    "            open('GJ3470_TESS_sector044_selected.p','wb'))\n",
    "\n"
   ]
  },
  {
   "cell_type": "code",
   "execution_count": null,
   "id": "5a3c7deb-3b66-423d-834b-616320b9ed71",
   "metadata": {},
   "outputs": [],
   "source": [
    "sector44_dictionary['quality_selection'] = final_selection"
   ]
  },
  {
   "cell_type": "code",
   "execution_count": null,
   "id": "6872493b-99d3-4635-a9b2-84a99fe7a7b5",
   "metadata": {},
   "outputs": [],
   "source": [
    "new_dict = pickle.load(open('GJ3470_TESS_sector044_selected.p', 'rb'))\n",
    "print(new_dict['time'])"
   ]
  },
  {
   "cell_type": "code",
   "execution_count": null,
   "id": "82339f00-044b-4eb5-b065-0553f09745c6",
   "metadata": {},
   "outputs": [],
   "source": [
    "https://exofop.ipac.caltech.edu/tess/"
   ]
  }
 ],
 "metadata": {
  "kernelspec": {
   "display_name": "Python 3 (ipykernel)",
   "language": "python",
   "name": "python3"
  },
  "language_info": {
   "codemirror_mode": {
    "name": "ipython",
    "version": 3
   },
   "file_extension": ".py",
   "mimetype": "text/x-python",
   "name": "python",
   "nbconvert_exporter": "python",
   "pygments_lexer": "ipython3",
   "version": "3.9.19"
  }
 },
 "nbformat": 4,
 "nbformat_minor": 5
}
