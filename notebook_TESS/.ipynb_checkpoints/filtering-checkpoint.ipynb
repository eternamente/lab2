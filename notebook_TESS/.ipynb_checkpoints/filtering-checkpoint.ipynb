{
 "cells": [
  {
   "cell_type": "code",
   "execution_count": 1,
   "id": "7701a2e3-c9dc-4b72-87a4-e9ec4b57d1ea",
   "metadata": {},
   "outputs": [],
   "source": [
    "import numpy as np\n",
    "from astropy.io import fits\n",
    "import matplotlib.pyplot as plt\n",
    "import pickle \n",
    "%matplotlib widget"
   ]
  },
  {
   "cell_type": "code",
   "execution_count": 2,
   "id": "166a9e00-f80b-4f06-942e-bd8cc818414f",
   "metadata": {},
   "outputs": [
    {
     "name": "stdout",
     "output_type": "stream",
     "text": [
      "Collecting wotan\n",
      "  Downloading wotan-1.10-py3-none-any.whl.metadata (11 kB)\n",
      "Requirement already satisfied: numpy in /opt/anaconda3/envs/astrolab2/lib/python3.9/site-packages (from wotan) (1.23.0)\n",
      "Requirement already satisfied: numba in /opt/anaconda3/envs/astrolab2/lib/python3.9/site-packages (from wotan) (0.60.0)\n",
      "Requirement already satisfied: scipy in /opt/anaconda3/envs/astrolab2/lib/python3.9/site-packages (from wotan) (1.13.1)\n",
      "Requirement already satisfied: llvmlite<0.44,>=0.43.0dev0 in /opt/anaconda3/envs/astrolab2/lib/python3.9/site-packages (from numba->wotan) (0.43.0)\n",
      "Downloading wotan-1.10-py3-none-any.whl (30 kB)\n",
      "Installing collected packages: wotan\n",
      "Successfully installed wotan-1.10\n",
      "Note: you may need to restart the kernel to use updated packages.\n"
     ]
    }
   ],
   "source": [
    "pip install wotan"
   ]
  },
  {
   "cell_type": "code",
   "execution_count": 3,
   "id": "bea11bd1-19c6-471c-a37f-58a76031e449",
   "metadata": {},
   "outputs": [],
   "source": [
    "from wotan import flatten"
   ]
  },
  {
   "cell_type": "code",
   "execution_count": null,
   "id": "e72bbb47-4399-4dd8-9dc8-c427a2ea41ee",
   "metadata": {},
   "outputs": [],
   "source": [
    "sector44_dictionary = pickle.load(open(GJ3470_TESS_sector044_selected.p), 'rb')"
   ]
  },
  {
   "cell_type": "code",
   "execution_count": null,
   "id": "9afcc992-3f5d-4aae-b8c1-ef666e152c51",
   "metadata": {},
   "outputs": [],
   "source": [
    "sector44_dictionary.key()"
   ]
  },
  {
   "cell_type": "code",
   "execution_count": null,
   "id": "744efec7-9aac-4fbe-9930-b1e2977b1b5e",
   "metadata": {},
   "outputs": [],
   "source": [
    "time = sector44_dictionary['time']\n",
    "sap_flux = sector44_dictionary['sap_flux']\n",
    "sap_flux_error = sector44_dictionary['sap_flux_error']"
   ]
  },
  {
   "cell_type": "code",
   "execution_count": null,
   "id": "6e8513ef-9239-47c9-b552-1b44fe4c28e1",
   "metadata": {},
   "outputs": [],
   "source": [
    "transit_time = 2459685.398095\n",
    "period = 3.2130578\n",
    "transit_duration = 2.169\n",
    "\n",
    "# from here for our planet https://exofop.ipac.caltech.edu/tess/\n",
    "# here is for proff example GJ 3470 b https://exofop.ipac.caltech.edu/tess/target.php?id=19028197\n",
    "# transit_time = 2459500.53574\n",
    "# period = 3.36\n",
    "# transit_duration = 1.86 / 24."
   ]
  },
  {
   "cell_type": "code",
   "execution_count": 4,
   "id": "d1818f59-d8a5-45ff-b121-847daa3089fd",
   "metadata": {},
   "outputs": [
    {
     "ename": "SyntaxError",
     "evalue": "invalid syntax (1606520945.py, line 3)",
     "output_type": "error",
     "traceback": [
      "\u001b[0;36m  Cell \u001b[0;32mIn[4], line 3\u001b[0;36m\u001b[0m\n\u001b[0;31m    sap_flux,\u001b[0m\n\u001b[0m    ^\u001b[0m\n\u001b[0;31mSyntaxError\u001b[0m\u001b[0;31m:\u001b[0m invalid syntax\n"
     ]
    }
   ],
   "source": [
    "sap_flatten_flux, sap_flatten_model = flatten(\n",
    "    time,\n",
    "    sap_flux,\n",
    "    method='hspline',\n",
    "    window_length=1.0,\n",
    "    break_tolerance=0.5,\n",
    "    return_trend=True\n",
    ")\n",
    "\n",
    "#You can change window_length=1.0, если какая-то там ошибка"
   ]
  },
  {
   "cell_type": "code",
   "execution_count": null,
   "id": "cd6623ed-4a6c-4d05-bd2a-607e29daa01e",
   "metadata": {},
   "outputs": [],
   "source": [
    "#pip install --user scikit-learn"
   ]
  },
  {
   "cell_type": "code",
   "execution_count": null,
   "id": "39a34516-0a32-4fb5-9dd5-c6348d37da7a",
   "metadata": {},
   "outputs": [],
   "source": [
    "plt.figure(figsize(8,4))\n",
    "plt.title('TESS: original light curve and flattening model')\n",
    "plt.scatter(time, sap_flux, c='C0', s=3)\n",
    "plt.errorbar(time, sap_flux, yerr=sap_flux_error, \n",
    "            ecolor='k', fmt=' ', alpha=0.25, zorder=-1)\n",
    "plt.plot(time, sap_flatten_model, c='C1', zorder=10)\n",
    "plt.xlabel('BJD_TDB')\n",
    "plt.ylabel('TESS SAP flux [e/s]')\n",
    "plt.show()"
   ]
  },
  {
   "cell_type": "code",
   "execution_count": null,
   "id": "b767f681-bb40-4785-af96-7fc1d26d44b6",
   "metadata": {},
   "outputs": [],
   "source": [
    "plt.figure(figsize=(8,4))\n",
    "plt.title('TESS: normilize SAP light curve')\n",
    "plt.scatter(time, sap_flatten_flux, c='C0', s=2)\n",
    "plt.errorbar(time, sap_flatten_flux, yerr=sap_flatten_flux/sap_flatten_model,\n",
    "            ecolor='k', fmt=' ', alpha=0.25, zorder=-1)\n",
    "plt.axhline(1, c='C1')\n",
    "plt.xlabel('BJD_TDB')\n",
    "plt.ylabel('TESS flattened SAP')\n",
    "plt.show()"
   ]
  },
  {
   "cell_type": "code",
   "execution_count": null,
   "id": "7d34207c-b8e2-4aaf-992f-c72f4631aa6a",
   "metadata": {},
   "outputs": [],
   "source": [
    "period = 3.339651\n",
    "transit_duration = 0.15\n",
    "\n",
    "phase_folded_time = (time-transit_time)%period - period/2\n",
    "\n",
    "plt.figure(figsize=(8,4))\n",
    "plt.title('TESS: folded SAP light curve')\n",
    "plt.scatter(phase_folded_time, sap_flatten_flux, s=2)\n",
    "plt.errorbar(phase_folded_time, sap_flatten_flux, yerr=sap_flux_error/sap_flatten_model,\n",
    "            ecolor='k', fmt=' ', alpha=0.25, zorder=-1)\n",
    "plt.axvline(-transit_duration/2, c='C3')\n",
    "plt.axvline(transit_duration/2, c='C3')\n",
    "plt.xlabel('Orbital phase [d]')\n",
    "plt.xlin(-0.1, 0.1)\n",
    "plt.show()"
   ]
  },
  {
   "cell_type": "code",
   "execution_count": null,
   "id": "5b23661a-9aed-405b-8524-a50052d946d5",
   "metadata": {},
   "outputs": [],
   "source": [
    "print(time%period)"
   ]
  },
  {
   "cell_type": "code",
   "execution_count": 5,
   "id": "1e4feeee-9e86-4191-81d1-e1af4d37ae34",
   "metadata": {},
   "outputs": [
    {
     "ename": "NameError",
     "evalue": "name 'transit_duration' is not defined",
     "output_type": "error",
     "traceback": [
      "\u001b[0;31m---------------------------------------------------------------------------\u001b[0m",
      "\u001b[0;31mNameError\u001b[0m                                 Traceback (most recent call last)",
      "Cell \u001b[0;32mIn[5], line 1\u001b[0m\n\u001b[0;32m----> 1\u001b[0m \u001b[38;5;28mprint\u001b[39m(\u001b[43mtransit_duration\u001b[49m\u001b[38;5;241m*\u001b[39m\u001b[38;5;241m1.5\u001b[39m)\n",
      "\u001b[0;31mNameError\u001b[0m: name 'transit_duration' is not defined"
     ]
    }
   ],
   "source": [
    "print(transit_duration*1.5)"
   ]
  },
  {
   "cell_type": "code",
   "execution_count": null,
   "id": "5c2cadd8-1fe7-4806-b994-3f6c5e5d7847",
   "metadata": {},
   "outputs": [],
   "source": [
    "from wotan import transit_mask\n",
    "mask = transit_mask(\n",
    "    time=time,\n",
    "    period=period,\n",
    "    duration=transit_duration,\n",
    "    T0 = transit_time\n",
    ")"
   ]
  },
  {
   "cell_type": "code",
   "execution_count": null,
   "id": "366b5e37-99e1-49b6-99ac-71bdf994eea9",
   "metadata": {},
   "outputs": [],
   "source": [
    "print(mask)"
   ]
  },
  {
   "cell_type": "code",
   "execution_count": null,
   "id": "e0a7b58e-7fe9-4d0b-90bb-dce1afe8d0aa",
   "metadata": {},
   "outputs": [],
   "source": [
    "sap_masked_flattened_flux, sap_masked_flattened_model = flatten(\n",
    "    time, \n",
    "    sap_flux,\n",
    "    method='hspline',\n",
    "    window_length=1.0,\n",
    "    break_tolerance=0.5,\n",
    "    return_trend=True,\n",
    "    mask=mask\n",
    ")"
   ]
  },
  {
   "cell_type": "code",
   "execution_count": null,
   "id": "f986fd36-8631-4dea-bbbb-65280c24385e",
   "metadata": {},
   "outputs": [],
   "source": [
    "plt.figure(figsize(8,4))\n",
    "plt.title('TESS: comparison between models')\n",
    "plt.scatter(time, sap_flux, c='C0', s=3)\n",
    "plt.errorbar(time, sap_flux, yerr=sap_flux_error, \n",
    "            ecolor='k', fmt=' ', alpha=0.25, zorder=-1)\n",
    "plt.plot(time, sap_flatten_model, c='C1', zorder=10, label='Unmasked')\n",
    "plt.plot(time, sap_flatten_model, c='C2', zorder=11, label='Masked')\n",
    "plt.legend()\n",
    "plt.xlabel('BJD_TDB')\n",
    "plt.ylabel('TESS SAP flux [e/s]')\n",
    "plt.show()"
   ]
  },
  {
   "cell_type": "code",
   "execution_count": 6,
   "id": "0933ca10-a6e1-4b57-9da7-439b3e60d1f8",
   "metadata": {},
   "outputs": [
    {
     "ename": "NameError",
     "evalue": "name 'time' is not defined",
     "output_type": "error",
     "traceback": [
      "\u001b[0;31m---------------------------------------------------------------------------\u001b[0m",
      "\u001b[0;31mNameError\u001b[0m                                 Traceback (most recent call last)",
      "Cell \u001b[0;32mIn[6], line 2\u001b[0m\n\u001b[1;32m      1\u001b[0m sap_flatten_flux, bw_sap_flatten_model \u001b[38;5;241m=\u001b[39m flatten(\n\u001b[0;32m----> 2\u001b[0m     \u001b[43mtime\u001b[49m,\n\u001b[1;32m      3\u001b[0m     sap_flux,\n\u001b[1;32m      4\u001b[0m     method\u001b[38;5;241m=\u001b[39m\u001b[38;5;124m'\u001b[39m\u001b[38;5;124mhspline\u001b[39m\u001b[38;5;124m'\u001b[39m,\n\u001b[1;32m      5\u001b[0m     window_length\u001b[38;5;241m=\u001b[39m\u001b[38;5;241m1.0\u001b[39m,\n\u001b[1;32m      6\u001b[0m     break_tolerance\u001b[38;5;241m=\u001b[39m\u001b[38;5;241m0.5\u001b[39m,\n\u001b[1;32m      7\u001b[0m     return_trend\u001b[38;5;241m=\u001b[39m\u001b[38;5;28;01mTrue\u001b[39;00m\n\u001b[1;32m      8\u001b[0m )\n\u001b[1;32m     10\u001b[0m sap_masked_flattened_flux, bw_sap_masked_flattened_model \u001b[38;5;241m=\u001b[39m flatten(\n\u001b[1;32m     11\u001b[0m     time, \n\u001b[1;32m     12\u001b[0m     sap_flux,\n\u001b[0;32m   (...)\u001b[0m\n\u001b[1;32m     17\u001b[0m     mask\u001b[38;5;241m=\u001b[39mmask\n\u001b[1;32m     18\u001b[0m )\n",
      "\u001b[0;31mNameError\u001b[0m: name 'time' is not defined"
     ]
    }
   ],
   "source": [
    "#тут что-то поменяли в начале bw_\n",
    "sap_flatten_flux, bw_sap_flatten_model = flatten(\n",
    "    time,\n",
    "    sap_flux,\n",
    "    method='hspline',\n",
    "    window_length=1.0,\n",
    "    break_tolerance=0.5,\n",
    "    return_trend=True\n",
    ")\n",
    "\n",
    "sap_masked_flattened_flux, bw_sap_masked_flattened_model = flatten(\n",
    "    time, \n",
    "    sap_flux,\n",
    "    method='hspline',\n",
    "    window_length=1.0,\n",
    "    break_tolerance=0.5,\n",
    "    return_trend=True,\n",
    "    mask=mask\n",
    ")"
   ]
  },
  {
   "cell_type": "code",
   "execution_count": null,
   "id": "fe1ae7b5-625e-46a2-8531-9f15a66af279",
   "metadata": {},
   "outputs": [],
   "source": [
    "print('STD with mask, Huber, w1.0 : {0:.6f}'.format(np.std(sap_masked_flatten_flux[~mask])))\n",
    "print('STD with mask, Biweight, w=1.5 : {0:.6f}'.format(np.std(sap_masked_flatten_flux[~mask]))\n",
    "print('Median error of flattened Flux  : {0:.6f}').format(np.median(sap_flux_error/sap_masked_flatten_model))\n",
    "\n",
    "print('STD with mask  : {0:.6f}'.format(np.std(sap_masked_flatten_flux[~mask]))')\n",
    "print('STD without mask  : {0:.6f}'.format(np.std(sap_flatten_flux[~mask]))')"
   ]
  },
  {
   "cell_type": "code",
   "execution_count": null,
   "id": "f9b41aae-10e3-48b7-abc7-2c36ad469796",
   "metadata": {},
   "outputs": [],
   "source": [
    "\n",
    "print('STD with mask, Huber, w1.0 : {0:.6f}'.format(np.std(sap_masked_flatten_flux[~mask])))\n",
    "\n"
   ]
  },
  {
   "cell_type": "code",
   "execution_count": null,
   "id": "58729364-d13a-4fd5-bd2d-454c84a0b386",
   "metadata": {},
   "outputs": [],
   "source": [
    "flatten_sector44_dictionary = {\n",
    "    'time': time,\n",
    "    'flattened_flux': sap_masked_flatten_flux,\n",
    "    'flattened_flux_error': sap_flux_error/sap_masked_flatten_model\n",
    "}\n",
    "#alternative\n",
    "'''\n",
    "flatten_sector44_dictionary = {\n",
    "    'time': time,\n",
    "    'mask': ...\n",
    "    'sap_biweight_10d_flattened_flux': ....,\n",
    "    'sap_biweight_10d_flattened_flux_error': ...,\n",
    "    'sap_hspline_10d_flattened_flux': ....,\n",
    "    'sap_hspline_10d_flattened_flux_error': ...,\n",
    "    'sap_hspline_10d_STD': ...,\n",
    "    'selected_lightcurve': 'PDCSAP_biweight_10d',\n",
    "}\n",
    "'''\n",
    "\n"
   ]
  },
  {
   "cell_type": "code",
   "execution_count": null,
   "id": "3e945bbd-9f52-4dd7-8e7d-38f4bb0b780e",
   "metadata": {},
   "outputs": [],
   "source": [
    "pickle.dump(flatten_sector44_dictionary, open('flatten_sector44_dictionary.p', 'wb'))"
   ]
  }
 ],
 "metadata": {
  "kernelspec": {
   "display_name": "Python 3 (ipykernel)",
   "language": "python",
   "name": "python3"
  },
  "language_info": {
   "codemirror_mode": {
    "name": "ipython",
    "version": 3
   },
   "file_extension": ".py",
   "mimetype": "text/x-python",
   "name": "python",
   "nbconvert_exporter": "python",
   "pygments_lexer": "ipython3",
   "version": "3.9.19"
  }
 },
 "nbformat": 4,
 "nbformat_minor": 5
}
